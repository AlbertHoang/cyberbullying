{
 "cells": [
  {
   "cell_type": "code",
   "execution_count": 1,
   "metadata": {
    "scrolled": false
   },
   "outputs": [],
   "source": [
    "# utilities\n",
    "import re\n",
    "import pickle\n",
    "import numpy as np\n",
    "import pandas as pd\n",
    "import json\n",
    "import os\n",
    "from os.path import join\n",
    "\n",
    "# plotting\n",
    "import seaborn as sns\n",
    "import matplotlib.pyplot as plt\n",
    "%matplotlib inline\n",
    "float_formatter = \"{:.4f}\".format\n",
    "np.set_printoptions(formatter={'float_kind':float_formatter})\n",
    "import warnings\n",
    "warnings.filterwarnings(\"ignore\", category=FutureWarning)\n",
    "\n",
    "# sklearn\n",
    "from sklearn.svm import LinearSVC, SVC\n",
    "from sklearn.linear_model import LogisticRegression, SGDClassifier\n",
    "from sklearn.preprocessing import StandardScaler\n",
    "from sklearn.model_selection import train_test_split, GridSearchCV\n",
    "\n",
    "from sklearn import metrics\n",
    "from sklearn.metrics import confusion_matrix, accuracy_score, plot_confusion_matrix, classification_report, f1_score, roc_auc_score,roc_curve,auc\n",
    "\n",
    "# Features Extraction\n",
    "from sklearn.feature_extraction.text import TfidfVectorizer\n",
    "\n",
    "#---Neural Network\n",
    "from sklearn.neural_network import MLPClassifier\n",
    "\n",
    "#---Multiclass Classification\n",
    "from sklearn.svm import LinearSVC, SVC\n",
    "from sklearn.ensemble import RandomForestClassifier\n",
    "from sklearn.naive_bayes import GaussianNB\n",
    "from sklearn.naive_bayes import BernoulliNB, MultinomialNB\n"
   ]
  },
  {
   "cell_type": "code",
   "execution_count": 2,
   "metadata": {},
   "outputs": [
    {
     "name": "stdout",
     "output_type": "stream",
     "text": [
      "Requirement already satisfied: xgboost in c:\\users\\hnbhu\\anaconda3\\lib\\site-packages (1.4.1)\n",
      "Requirement already satisfied: scipy in c:\\users\\hnbhu\\anaconda3\\lib\\site-packages (from xgboost) (1.5.2)\n",
      "Requirement already satisfied: numpy in c:\\users\\hnbhu\\anaconda3\\lib\\site-packages (from xgboost) (1.19.2)\n"
     ]
    }
   ],
   "source": [
    "!pip3 install xgboost\n",
    "import xgboost as xgb\n",
    "from xgboost.sklearn import XGBClassifier\n",
    "from xgboost import XGBRegressor\n",
    "from xgboost import XGBRFRegressor"
   ]
  },
  {
   "cell_type": "code",
   "execution_count": 3,
   "metadata": {},
   "outputs": [],
   "source": [
    "## Runing on Colab\n",
    "## /content/drive/MyDrive/git/cyberbullying/input/hate_speech/MMHS150K_GT.json\n",
    "# dataset_directory = '/content/drive/MyDrive/git/cyberbullying/input/hate_speech' \n",
    "# img_txt_directory = '/content/drive/MyDrive/git/cyberbullying/input/hate_speech/img_txt' \n",
    "# img_resized_directory = '/content/drive/MyDrive/git/cyberbullying/input/hate_speech/img_resized' \n",
    "# splits_directory = '/content/drive/MyDrive/git/cyberbullying/input/hate_speech/splits' \n",
    "\n",
    "## Runing on Local\n",
    "dataset_directory = 'D:\\\\git\\\\cyberbullying\\\\input\\\\hate_speech' \n",
    "# img_txt_directory = 'D:\\\\git\\\\cyberbullying\\\\input\\\\hate_speech\\\\img_txt' \n",
    "# img_resized_directory = 'D:\\\\git\\\\cyberbullying\\\\input\\\\hate_speech\\\\img_resized' \n",
    "# splits_directory = 'D:\\\\git\\\\cyberbullying\\\\input\\\\hate_speech\\\\splits' "
   ]
  },
  {
   "cell_type": "code",
   "execution_count": 4,
   "metadata": {},
   "outputs": [],
   "source": [
    "with open(join(dataset_directory,'MMHS150K_GT.json')) as json_file:\n",
    "    hate_speech_data = json.load(json_file)"
   ]
  },
  {
   "cell_type": "code",
   "execution_count": 5,
   "metadata": {},
   "outputs": [],
   "source": [
    "hate_speech = hate_speech_data.copy()"
   ]
  },
  {
   "cell_type": "markdown",
   "metadata": {},
   "source": [
    "## Preprocessing Dataset"
   ]
  },
  {
   "cell_type": "code",
   "execution_count": 6,
   "metadata": {
    "scrolled": false
   },
   "outputs": [],
   "source": [
    "import nltk\n",
    "import string\n",
    "from nltk import tokenize, pos_tag\n",
    "from nltk.corpus import stopwords\n",
    "from nltk.tokenize import RegexpTokenizer, word_tokenize\n",
    "from nltk.stem import WordNetLemmatizer\n",
    "from nltk.stem.porter import PorterStemmer\n",
    "from sklearn.feature_extraction.text import TfidfVectorizer, CountVectorizer"
   ]
  },
  {
   "cell_type": "code",
   "execution_count": 7,
   "metadata": {
    "scrolled": true
   },
   "outputs": [
    {
     "name": "stderr",
     "output_type": "stream",
     "text": [
      "[nltk_data] Downloading package wordnet to\n",
      "[nltk_data]     C:\\Users\\hnbhu\\AppData\\Roaming\\nltk_data...\n",
      "[nltk_data]   Package wordnet is already up-to-date!\n",
      "[nltk_data] Downloading package stopwords to\n",
      "[nltk_data]     C:\\Users\\hnbhu\\AppData\\Roaming\\nltk_data...\n",
      "[nltk_data]   Package stopwords is already up-to-date!\n",
      "[nltk_data] Downloading package punkt to\n",
      "[nltk_data]     C:\\Users\\hnbhu\\AppData\\Roaming\\nltk_data...\n",
      "[nltk_data]   Package punkt is already up-to-date!\n",
      "C:\\Users\\hnbhu\\anaconda3\\lib\\site-packages\\gensim\\similarities\\__init__.py:15: UserWarning: The gensim.similarities.levenshtein submodule is disabled, because the optional Levenshtein package <https://pypi.org/project/python-Levenshtein/> is unavailable. Install Levenhstein (e.g. `pip install python-Levenshtein`) to suppress this warning.\n",
      "  warnings.warn(msg)\n"
     ]
    }
   ],
   "source": [
    "nltk.download('wordnet')\n",
    "nltk.download('stopwords')\n",
    "nltk.download('punkt')\n",
    "from nltk.tokenize import word_tokenize\n",
    "from nltk.stem import WordNetLemmatizer\n",
    "from nltk.corpus import stopwords\n",
    "from gensim.models import Word2Vec\n"
   ]
  },
  {
   "cell_type": "markdown",
   "metadata": {},
   "source": [
    "## Cleaning the texts"
   ]
  },
  {
   "cell_type": "code",
   "execution_count": 8,
   "metadata": {},
   "outputs": [],
   "source": [
    "# def preprocessing(data):\n",
    "#     stemmer = nltk.stem.RSLPStemmer()\n",
    "#     all_stopwords = stopwords.words('english')\n",
    "#     all_stopwords.remove('not')\n",
    "#     corpus = []\n",
    "#     for tweet in data:\n",
    "#         review = re.sub(r\"@[A-Za-z0-9_]+\", \" \", tweet)\n",
    "#         review = re.sub('RT', ' ', review)\n",
    "#         review = re.sub(r\"https?://[A-Za-z0-9./]+\", \" \", review)\n",
    "#         review = re.sub(r\"https?\", \" \", review)\n",
    "#         review = re.sub('[^a-zA-Z]', ' ', review)\n",
    "#         review = review.lower()\n",
    "#         review = review.split()\n",
    "#         ps = PorterStemmer()\n",
    "#         review = [ps.stem(word) for word in review if not word in set(all_stopwords) if len(word) > 2] \n",
    "#         review = ' '.join(review)\n",
    "#         corpus.append(review)\n",
    "\n",
    "#     return np.array(corpus)"
   ]
  },
  {
   "cell_type": "code",
   "execution_count": 9,
   "metadata": {},
   "outputs": [],
   "source": [
    "# corpus = preprocessing(preprocess_df['tweet_text'])\n",
    "# corpus.shape"
   ]
  },
  {
   "cell_type": "code",
   "execution_count": 10,
   "metadata": {
    "scrolled": true
   },
   "outputs": [],
   "source": [
    "# corpus"
   ]
  },
  {
   "cell_type": "markdown",
   "metadata": {},
   "source": [
    "# Preprocessing"
   ]
  },
  {
   "cell_type": "code",
   "execution_count": 11,
   "metadata": {},
   "outputs": [],
   "source": [
    "import operator\n",
    "def get_max_item(a_dict):\n",
    "  return max(a_dict.items(), key=operator.itemgetter(1))[0]\n",
    "# get_max_item({'Religion': 3, 'Racist': 2})\n",
    "# final_labels = [get_max_item(l) for l in labels]"
   ]
  },
  {
   "cell_type": "code",
   "execution_count": 12,
   "metadata": {},
   "outputs": [
    {
     "data": {
      "text/plain": [
       "'Religion'"
      ]
     },
     "execution_count": 12,
     "metadata": {},
     "output_type": "execute_result"
    }
   ],
   "source": [
    "get_max_item({'Religion': 1, 'Racist': 1})"
   ]
  },
  {
   "cell_type": "code",
   "execution_count": 13,
   "metadata": {},
   "outputs": [],
   "source": [
    "def labels_to_single(labels):\n",
    "  label_dict={}\n",
    "  for l in labels:\n",
    "    if l not in label_dict:\n",
    "      label_dict[l] = 1\n",
    "    else:\n",
    "      label_dict[l] += 1\n",
    "  return get_max_item(label_dict)"
   ]
  },
  {
   "cell_type": "code",
   "execution_count": 14,
   "metadata": {},
   "outputs": [],
   "source": [
    "cb_ds = [[key, val['tweet_text'], val['labels_str'], labels_to_single(val['labels_str'])] \n",
    "              # 1 if sum(to_label(val['labels'])) == 3 else 0] \n",
    "             for key, val in hate_speech.items()]"
   ]
  },
  {
   "cell_type": "markdown",
   "metadata": {},
   "source": [
    "## Train test split"
   ]
  },
  {
   "cell_type": "code",
   "execution_count": 15,
   "metadata": {},
   "outputs": [
    {
     "name": "stdout",
     "output_type": "stream",
     "text": [
      "Data Split done.\n"
     ]
    }
   ],
   "source": [
    "X = [row[1] for row in cb_ds]\n",
    "y = [row[3] for row in cb_ds]\n",
    "X_train, X_val, y_train, y_val = train_test_split(X, y, test_size = 0.2, random_state = 0)\n",
    "\n",
    "print(f'Data Split done.')"
   ]
  },
  {
   "cell_type": "markdown",
   "metadata": {},
   "source": [
    "## Word2vec"
   ]
  },
  {
   "cell_type": "code",
   "execution_count": 16,
   "metadata": {},
   "outputs": [],
   "source": [
    "punctuations = \"?:!.,;[]-\"\n",
    "stop_words = set(stopwords.words('english'))\n",
    "wordnet_lemmatizer = WordNetLemmatizer()"
   ]
  },
  {
   "cell_type": "code",
   "execution_count": 17,
   "metadata": {},
   "outputs": [],
   "source": [
    "def tokenize_and_remove_stop_words(text):\n",
    "    #word_tokenizer = NLTKWordTokenizer()\n",
    "    # inputs = ['']\n",
    "\n",
    "    raw_tokens = word_tokenize(text)\n",
    "    final_tokens = [token.lower() for token in raw_tokens\n",
    "            if token not in punctuations and token not in stop_words]\n",
    "    # print(final_tokens)\n",
    "    return final_tokens\n",
    "\n",
    "\n",
    "def lemmatize(words):\n",
    "    return [wordnet_lemmatizer.lemmatize(word, pos='v') for word in words]\n",
    "\n",
    "def to_word2vec_vector(sent_items):\n",
    "    model = Word2Vec(sent_items, min_count=1, vector_size=50, workers=3, window=3, sg=1)\n",
    "    return model\n",
    "\n",
    "def get_sentence_vectors(word2vec_model, sentence_tokens):\n",
    "    res = []\n",
    "    for sentence in sentence_tokens:  # TODO: fix two loops\n",
    "        sentence_vectors = np.array([word2vec_model.wv[token] for token in sentence])\n",
    "        mean = np.mean(sentence_vectors, axis=0)\n",
    "        res.append(mean)\n",
    "\n",
    "    return np.array(res)\n",
    "\n",
    "def vectorize_by_wor2vec(text_instances):\n",
    "  tokenized_items = []\n",
    "  for ti in text_instances:\n",
    "      tokens = tokenize_and_remove_stop_words(ti)\n",
    "      tokens = lemmatize(tokens)\n",
    "      # print(tokens)\n",
    "      tokenized_items.append(tokens)\n",
    "\n",
    "  #print(tokenized_items)\n",
    "  model = to_word2vec_vector(tokenized_items)\n",
    "  print(f'shape of word2vec model (vocabulary size) is: {model.cum_table.shape}')\n",
    "  #print(model.cum_table)\n",
    "  sen_vectors = get_sentence_vectors(model, tokenized_items)\n",
    "  return sen_vectors"
   ]
  },
  {
   "cell_type": "markdown",
   "metadata": {},
   "source": [
    "## Tranforming the dataset\n",
    "Transforming the X_train and X_test dataset by using Word2vec. This datasets will be used to train the model and test against it."
   ]
  },
  {
   "cell_type": "code",
   "execution_count": 18,
   "metadata": {},
   "outputs": [
    {
     "name": "stdout",
     "output_type": "stream",
     "text": [
      "shape of word2vec model (vocabulary size) is: (228740,)\n",
      "shape of word2vec model (vocabulary size) is: (68795,)\n",
      "Data Transformed.\n"
     ]
    }
   ],
   "source": [
    "# encode document\n",
    "X_train = vectorize_by_wor2vec(X_train)\n",
    "X_val  = vectorize_by_wor2vec(X_val)\n",
    "\n",
    "print(f'Data Transformed.')"
   ]
  },
  {
   "cell_type": "code",
   "execution_count": 19,
   "metadata": {},
   "outputs": [],
   "source": [
    "# X_train_w2v = vectorize_by_wor2vec(X_train[:3])\n",
    "# print(f'Training model complete.')"
   ]
  },
  {
   "cell_type": "markdown",
   "metadata": {},
   "source": [
    "# 3. Models"
   ]
  },
  {
   "cell_type": "markdown",
   "metadata": {},
   "source": [
    "## 3.1 LinearSVC"
   ]
  },
  {
   "cell_type": "code",
   "execution_count": 20,
   "metadata": {},
   "outputs": [],
   "source": [
    "# load the model from disk\n",
    "# filename = 'SVM_model_onelabel.sav'\n",
    "# loaded_model = pickle.load(open(filename, 'rb'))\n",
    "# result = loaded_model.score(X_test, Y_test)"
   ]
  },
  {
   "cell_type": "code",
   "execution_count": 21,
   "metadata": {},
   "outputs": [],
   "source": [
    "# %%time\n",
    "# svm_clf = SVC(kernel='linear', C=1)\n",
    "# modelSVC = svm_clf.fit(X_train, y_train)\n",
    "# print(f'Training model complete.')"
   ]
  },
  {
   "cell_type": "code",
   "execution_count": 22,
   "metadata": {},
   "outputs": [],
   "source": [
    "# # # Perform prediction on the training and validation data\n",
    "# y_pred_train_svm_clf = svm_clf.predict(X_train)\n",
    "# y_pred_val_svm_clf = svm_clf.predict(X_val)\n",
    "\n",
    "# # # calculating accuracy score on training set\n",
    "# print(\"Acc on training set: \", accuracy_score(y_train, y_pred_train_svm_clf))\n",
    "\n",
    "# # # calculating accuracy score on val set\n",
    "# print(\"Acc on validation set: \", accuracy_score(y_val, y_pred_val_svm_clf))"
   ]
  },
  {
   "cell_type": "code",
   "execution_count": 23,
   "metadata": {},
   "outputs": [],
   "source": [
    "# # save the model to disk\n",
    "# filename = 'SVM_model_onelabel.sav'\n",
    "# pickle.dump(svm_clf, open(filename, 'wb'))"
   ]
  },
  {
   "cell_type": "markdown",
   "metadata": {},
   "source": [
    "# 3.2 Neural Network"
   ]
  },
  {
   "cell_type": "code",
   "execution_count": 24,
   "metadata": {},
   "outputs": [
    {
     "name": "stdout",
     "output_type": "stream",
     "text": [
      "Training model complete.\n",
      "Wall time: 1min 44s\n"
     ]
    },
    {
     "name": "stderr",
     "output_type": "stream",
     "text": [
      "C:\\Users\\hnbhu\\anaconda3\\lib\\site-packages\\sklearn\\neural_network\\_multilayer_perceptron.py:582: ConvergenceWarning: Stochastic Optimizer: Maximum iterations (200) reached and the optimization hasn't converged yet.\n",
      "  warnings.warn(\n"
     ]
    }
   ],
   "source": [
    "%%time\n",
    "mlp_clf = MLPClassifier(solver='sgd',\n",
    "                    alpha=1e-5,\n",
    "                    hidden_layer_sizes=(10,),\n",
    "                    random_state=1)\n",
    "mlp_clf.fit(X_train, y_train)\n",
    "print(f'Training model complete.')"
   ]
  },
  {
   "cell_type": "code",
   "execution_count": 25,
   "metadata": {},
   "outputs": [
    {
     "name": "stdout",
     "output_type": "stream",
     "text": [
      "Acc on training set:  0.7796392397670577\n",
      "Acc on validation set:  0.7170699149007175\n"
     ]
    }
   ],
   "source": [
    "# # Perform prediction on the training and validation data\n",
    "y_pred_train_mlp_clf = mlp_clf.predict(X_train)\n",
    "y_pred_val_mlp_clf = mlp_clf.predict(X_val)\n",
    "\n",
    "# # calculating accuracy score on training set\n",
    "print(\"Acc on training set: \", accuracy_score(y_train, y_pred_train_mlp_clf))\n",
    "\n",
    "# # calculating accuracy score on val set\n",
    "print(\"Acc on validation set: \", accuracy_score(y_val, y_pred_val_mlp_clf))"
   ]
  },
  {
   "cell_type": "markdown",
   "metadata": {},
   "source": [
    "# 3.3 XGBoost"
   ]
  },
  {
   "cell_type": "code",
   "execution_count": 26,
   "metadata": {},
   "outputs": [
    {
     "name": "stderr",
     "output_type": "stream",
     "text": [
      "C:\\Users\\hnbhu\\anaconda3\\lib\\site-packages\\xgboost\\sklearn.py:1146: UserWarning: The use of label encoder in XGBClassifier is deprecated and will be removed in a future release. To remove this warning, do the following: 1) Pass option use_label_encoder=False when constructing XGBClassifier object; and 2) Encode your labels (y) as integers starting with 0, i.e. 0, 1, 2, ..., [num_class - 1].\n",
      "  warnings.warn(label_encoder_deprecation_msg, UserWarning)\n"
     ]
    },
    {
     "name": "stdout",
     "output_type": "stream",
     "text": [
      "[08:12:59] WARNING: C:/Users/Administrator/workspace/xgboost-win64_release_1.4.0/src/learner.cc:1095: Starting in XGBoost 1.3.0, the default evaluation metric used with the objective 'multi:softprob' was changed from 'merror' to 'mlogloss'. Explicitly set eval_metric if you'd like to restore the old behavior.\n",
      "Training model complete.\n",
      "Wall time: 5min 34s\n"
     ]
    }
   ],
   "source": [
    "%%time\n",
    "xgb_clf = XGBClassifier()\n",
    "xgb_clf.fit(X_train, y_train)\n",
    "\n",
    "print(f'Training model complete.')"
   ]
  },
  {
   "cell_type": "code",
   "execution_count": 27,
   "metadata": {},
   "outputs": [
    {
     "name": "stdout",
     "output_type": "stream",
     "text": [
      "Accuracy is: 0.7119\n",
      "\n"
     ]
    }
   ],
   "source": [
    "# Predicting the Test set results\n",
    "y_pred = xgb_clf.predict(X_val)\n",
    "accuracy = accuracy_score(y_val, y_pred)\n",
    "print(\"Accuracy is: %.4f\\n\" % accuracy)"
   ]
  },
  {
   "cell_type": "code",
   "execution_count": 28,
   "metadata": {},
   "outputs": [
    {
     "name": "stdout",
     "output_type": "stream",
     "text": [
      "Acc on training set:  0.8331692502794974\n",
      "Acc on validation set:  0.7119305856832971\n"
     ]
    }
   ],
   "source": [
    "# # Perform prediction on the training and validation data\n",
    "y_pred_train_xgb_clf = xgb_clf.predict(X_train)\n",
    "y_pred_val_xgb_clf = xgb_clf.predict(X_val)\n",
    "\n",
    "# # calculating accuracy score on training set\n",
    "print(\"Acc on training set: \", accuracy_score(y_train, y_pred_train_xgb_clf))\n",
    "\n",
    "# # calculating accuracy score on val set\n",
    "print(\"Acc on validation set: \", accuracy_score(y_val, y_pred_val_xgb_clf))"
   ]
  },
  {
   "cell_type": "markdown",
   "metadata": {},
   "source": [
    "# 4. Pecision, recall, f-score, ROC and AUC charts"
   ]
  },
  {
   "cell_type": "markdown",
   "metadata": {},
   "source": [
    "## 4.1 precision, recall, f-score"
   ]
  },
  {
   "cell_type": "code",
   "execution_count": 29,
   "metadata": {},
   "outputs": [],
   "source": [
    "# Create the confussion matrix\n",
    "def plot_confussion_matrix(y_test, y_pred):\n",
    "    ''' Plot the confussion matrix for the target labels and predictions '''\n",
    "    cm = confusion_matrix(y_test, y_pred)\n",
    "\n",
    "    # Create a dataframe with the confussion matrix values\n",
    "    df_cm = pd.DataFrame(cm, range(cm.shape[0]),\n",
    "                  range(cm.shape[1]))\n",
    "    #plt.figure(figsize = (10,7))\n",
    "    # Plot the confussion matrix\n",
    "    sns.set(font_scale=1.4) #for label size\n",
    "    sns.heatmap(df_cm, annot=True,fmt='.0f',annot_kws={\"size\": 10})# font size\n",
    "    plt.show()"
   ]
  },
  {
   "cell_type": "code",
   "execution_count": 30,
   "metadata": {},
   "outputs": [],
   "source": [
    "# precision, recall, f-score for LinearSVC\n",
    "# print(metrics.classification_report(y_val, y_pred_val_svm_clf,  digits=5))\n",
    "# plot_confussion_matrix(y_val, y_pred_val_svm_clf)"
   ]
  },
  {
   "cell_type": "markdown",
   "metadata": {},
   "source": [
    "F1 score is used as an evaluation measure as, when the data is skewed like in this case, where the number of hate speech tweets are very less, accuracy cannot be relied upon."
   ]
  },
  {
   "cell_type": "code",
   "execution_count": 31,
   "metadata": {},
   "outputs": [
    {
     "name": "stderr",
     "output_type": "stream",
     "text": [
      "C:\\Users\\hnbhu\\anaconda3\\lib\\site-packages\\sklearn\\metrics\\_classification.py:1221: UndefinedMetricWarning: Precision and F-score are ill-defined and being set to 0.0 in labels with no predicted samples. Use `zero_division` parameter to control this behavior.\n",
      "  _warn_prf(average, modifier, msg_start, len(result))\n"
     ]
    },
    {
     "name": "stdout",
     "output_type": "stream",
     "text": [
      "              precision    recall  f1-score   support\n",
      "\n",
      "   Homophobe    0.04521   0.13456   0.06767       981\n",
      "     NotHate    0.79017   0.91348   0.84736     23370\n",
      "   OtherHate    0.33333   0.00063   0.00125      1597\n",
      "      Racist    0.24000   0.00207   0.00411      2893\n",
      "    Religion    0.00000   0.00000   0.00000        62\n",
      "      Sexist    0.00000   0.00000   0.00000      1062\n",
      "\n",
      "    accuracy                        0.71707     29965\n",
      "   macro avg    0.23478   0.17512   0.15340     29965\n",
      "weighted avg    0.65868   0.71707   0.66354     29965\n",
      "\n"
     ]
    },
    {
     "data": {
      "image/png": "[encoded data removed]",
      "text/plain": [
       "<Figure size 432x288 with 2 Axes>"
      ]
     },
     "metadata": {},
     "output_type": "display_data"
    }
   ],
   "source": [
    "# precision, recall, f-score for neural network\n",
    "print(metrics.classification_report(y_val, y_pred_val_mlp_clf,  digits=5))\n",
    "plot_confussion_matrix(y_val, y_pred_val_mlp_clf)"
   ]
  },
  {
   "cell_type": "code",
   "execution_count": 32,
   "metadata": {},
   "outputs": [
    {
     "name": "stdout",
     "output_type": "stream",
     "text": [
      "              precision    recall  f1-score   support\n",
      "\n",
      "   Homophobe    0.05882   0.00306   0.00581       981\n",
      "     NotHate    0.78841   0.90116   0.84102     23370\n",
      "   OtherHate    0.09756   0.01002   0.01817      1597\n",
      "      Racist    0.08372   0.08780   0.08571      2893\n",
      "    Religion    0.00000   0.00000   0.00000        62\n",
      "      Sexist    0.00000   0.00000   0.00000      1062\n",
      "\n",
      "    accuracy                        0.71193     29965\n",
      "   macro avg    0.17142   0.16701   0.15845     29965\n",
      "weighted avg    0.63010   0.71193   0.66535     29965\n",
      "\n"
     ]
    },
    {
     "data": {
      "image/png": "[encoded data removed]",
      "text/plain": [
       "<Figure size 432x288 with 2 Axes>"
      ]
     },
     "metadata": {},
     "output_type": "display_data"
    }
   ],
   "source": [
    "# precision, recall, f-score for XGBoost\n",
    "print(metrics.classification_report(y_val, y_pred_val_xgb_clf,  digits=5))\n",
    "plot_confussion_matrix(y_val, y_pred_val_xgb_clf)"
   ]
  },
  {
   "cell_type": "markdown",
   "metadata": {},
   "source": [
    "## 4.2 ROC and AUC charts"
   ]
  },
  {
   "cell_type": "code",
   "execution_count": 33,
   "metadata": {},
   "outputs": [],
   "source": [
    "# ROC Curve\n",
    "# plot no skill\n",
    "# Calculate the points in the ROC curve\n",
    "def plot_roc_curve(y_test, y_pred):\n",
    "    ''' Plot the ROC curve for the target labels and predictions'''\n",
    "    fpr, tpr, thresholds = roc_curve(y_test, y_pred, pos_label=1)\n",
    "    roc_auc= auc(fpr,tpr)\n",
    "\n",
    "    plt.title('Receiver Operating Characteristic')\n",
    "    plt.plot(fpr, tpr, 'b', label = 'AUC = %0.2f' % roc_auc)\n",
    "    plt.legend(loc = 'lower right')\n",
    "    plt.plot([0, 1], [0, 1],'r--')\n",
    "    plt.xlim([0, 1])\n",
    "    plt.ylim([0, 1])\n",
    "    plt.ylabel('True Positive Rate')\n",
    "    plt.xlabel('False Positive Rate')\n",
    "    plt.show()"
   ]
  },
  {
   "cell_type": "code",
   "execution_count": 34,
   "metadata": {},
   "outputs": [],
   "source": [
    "# ROC curve for LinearSVC\n",
    "# plot_roc_curve(y_val, y_pred_val_svm_clf)"
   ]
  },
  {
   "cell_type": "code",
   "execution_count": 38,
   "metadata": {},
   "outputs": [],
   "source": [
    "# ROC curve for neural network\n",
    "# plot_roc_curve(y_val, y_pred_val_mlp_clf)"
   ]
  },
  {
   "cell_type": "code",
   "execution_count": 39,
   "metadata": {},
   "outputs": [],
   "source": [
    "# ROC curve for XGBoost\n",
    "# plot_roc_curve(y_val, y_pred_val_xgb_clf)"
   ]
  }
 ],
 "metadata": {
  "kernelspec": {
   "display_name": "Python 3",
   "language": "python",
   "name": "python3"
  },
  "language_info": {
   "codemirror_mode": {
    "name": "ipython",
    "version": 3
   },
   "file_extension": ".py",
   "mimetype": "text/x-python",
   "name": "python",
   "nbconvert_exporter": "python",
   "pygments_lexer": "ipython3",
   "version": "3.8.5"
  }
 },
 "nbformat": 4,
 "nbformat_minor": 4
}
