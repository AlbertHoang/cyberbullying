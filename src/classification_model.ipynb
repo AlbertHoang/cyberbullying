{
 "cells": [
  {
   "cell_type": "code",
   "execution_count": 48,
   "metadata": {},
   "outputs": [],
   "source": [
    "# utilities\n",
    "import re\n",
    "import pickle\n",
    "import numpy as np\n",
    "import pandas as pd\n",
    "import json\n",
    "import os\n",
    "from os.path import join\n",
    "\n",
    "# plotting\n",
    "import seaborn as sns\n",
    "import matplotlib.pyplot as plt\n",
    "%matplotlib inline\n",
    "float_formatter = \"{:.4f}\".format\n",
    "np.set_printoptions(formatter={'float_kind':float_formatter})\n",
    "import warnings\n",
    "warnings.filterwarnings(\"ignore\", category=FutureWarning)\n",
    "\n",
    "# nltk\n",
    "from nltk.stem import WordNetLemmatizer\n",
    "\n",
    "# sklearn\n",
    "from sklearn.svm import LinearSVC, SVC\n",
    "from sklearn.naive_bayes import BernoulliNB, MultinomialNB\n",
    "from sklearn.linear_model import LogisticRegression, SGDClassifier\n",
    "from sklearn.ensemble import RandomForestClassifier\n",
    "\n",
    "from sklearn.model_selection import train_test_split\n",
    "from sklearn.feature_extraction.text import TfidfVectorizer\n",
    "from sklearn.metrics import confusion_matrix, accuracy_score, plot_confusion_matrix, classification_report, f1_score"
   ]
  },
  {
   "cell_type": "code",
   "execution_count": 2,
   "metadata": {},
   "outputs": [],
   "source": [
    "## Runing on Colab\n",
    "## /content/drive/MyDrive/git/cyberbullying/input/hate_speech/MMHS150K_GT.json\n",
    "# dataset_directory = '/content/drive/MyDrive/git/cyberbullying/input/hate_speech' \n",
    "# img_txt_directory = '/content/drive/MyDrive/git/cyberbullying/input/hate_speech/img_txt' \n",
    "# img_resized_directory = '/content/drive/MyDrive/git/cyberbullying/input/hate_speech/img_resized' \n",
    "# splits_directory = '/content/drive/MyDrive/git/cyberbullying/input/hate_speech/splits' \n",
    "\n",
    "## Runing on Local\n",
    "dataset_directory = 'D:\\\\git\\\\cyberbullying\\\\input\\\\hate_speech' \n",
    "img_txt_directory = 'D:\\\\git\\\\cyberbullying\\\\input\\\\hate_speech\\\\img_txt' \n",
    "img_resized_directory = 'D:\\\\git\\\\cyberbullying\\\\input\\\\hate_speech\\\\img_resized' \n",
    "splits_directory = 'D:\\\\git\\\\cyberbullying\\\\input\\\\hate_speech\\\\splits' "
   ]
  },
  {
   "cell_type": "code",
   "execution_count": 3,
   "metadata": {},
   "outputs": [],
   "source": [
    "with open(join(dataset_directory,'MMHS150K_GT.json')) as json_file:\n",
    "    hate_speech_data = json.load(json_file)"
   ]
  },
  {
   "cell_type": "code",
   "execution_count": 4,
   "metadata": {},
   "outputs": [],
   "source": [
    "hate_speech_ori = pd.DataFrame(hate_speech_data)"
   ]
  },
  {
   "cell_type": "code",
   "execution_count": 5,
   "metadata": {},
   "outputs": [
    {
     "data": {
      "text/html": [
       "<div>\n",
       "<style scoped>\n",
       "    .dataframe tbody tr th:only-of-type {\n",
       "        vertical-align: middle;\n",
       "    }\n",
       "\n",
       "    .dataframe tbody tr th {\n",
       "        vertical-align: top;\n",
       "    }\n",
       "\n",
       "    .dataframe thead th {\n",
       "        text-align: right;\n",
       "    }\n",
       "</style>\n",
       "<table border=\"1\" class=\"dataframe\">\n",
       "  <thead>\n",
       "    <tr style=\"text-align: right;\">\n",
       "      <th></th>\n",
       "      <th>1114679353714016256</th>\n",
       "      <th>1063020048816660480</th>\n",
       "      <th>1108927368075374593</th>\n",
       "      <th>1114558534635618305</th>\n",
       "      <th>1035252480215592966</th>\n",
       "      <th>1106978219654303744</th>\n",
       "      <th>1113920043568463874</th>\n",
       "      <th>1114588617693966336</th>\n",
       "      <th>1045809514740666370</th>\n",
       "      <th>1108178453910695936</th>\n",
       "      <th>...</th>\n",
       "      <th>1116534812263710720</th>\n",
       "      <th>1062161948748513280</th>\n",
       "      <th>1107392307815477250</th>\n",
       "      <th>1105465552544374786</th>\n",
       "      <th>1114066031071453184</th>\n",
       "      <th>1114170734472048640</th>\n",
       "      <th>1110368198786846720</th>\n",
       "      <th>1106941858540851200</th>\n",
       "      <th>1105268309233188865</th>\n",
       "      <th>1114653514364530691</th>\n",
       "    </tr>\n",
       "  </thead>\n",
       "  <tbody>\n",
       "    <tr>\n",
       "      <th>img_url</th>\n",
       "      <td>http://pbs.twimg.com/tweet_video_thumb/D3gi9MH...</td>\n",
       "      <td>http://pbs.twimg.com/ext_tw_video_thumb/106301...</td>\n",
       "      <td>http://pbs.twimg.com/media/D2OzhzHUwAADQjd.jpg</td>\n",
       "      <td>http://pbs.twimg.com/ext_tw_video_thumb/111401...</td>\n",
       "      <td>http://pbs.twimg.com/media/Dl30pGIU8AAVGxO.jpg</td>\n",
       "      <td>http://pbs.twimg.com/media/D1zG0qnX4AAw9SC.jpg</td>\n",
       "      <td>http://pbs.twimg.com/media/D3VwYEKW4AYz4vk.jpg</td>\n",
       "      <td>http://pbs.twimg.com/media/D3fQcCCWAAIG8tO.jpg</td>\n",
       "      <td>http://pbs.twimg.com/media/DoN2KFmXcAAIT-Y.jpg</td>\n",
       "      <td>http://pbs.twimg.com/ext_tw_video_thumb/110817...</td>\n",
       "      <td>...</td>\n",
       "      <td>http://pbs.twimg.com/tweet_video_thumb/D366fX4...</td>\n",
       "      <td>http://pbs.twimg.com/media/Dr2OnfWX4AAG0YR.jpg</td>\n",
       "      <td>http://pbs.twimg.com/media/D14_buJXcAAvw2Z.jpg</td>\n",
       "      <td>http://pbs.twimg.com/tweet_video_thumb/D1dnDez...</td>\n",
       "      <td>http://pbs.twimg.com/media/D3X1JtrXkAAPHkL.jpg</td>\n",
       "      <td>http://pbs.twimg.com/tweet_video_thumb/D3ZUXNw...</td>\n",
       "      <td>http://pbs.twimg.com/ext_tw_video_thumb/111036...</td>\n",
       "      <td>http://pbs.twimg.com/media/D1yluGmXgAEKNG5.jpg</td>\n",
       "      <td>http://pbs.twimg.com/tweet_video_thumb/D1azqiz...</td>\n",
       "      <td>http://pbs.twimg.com/media/D3gLdL0W0AENzVJ.jpg</td>\n",
       "    </tr>\n",
       "    <tr>\n",
       "      <th>labels</th>\n",
       "      <td>[4, 1, 3]</td>\n",
       "      <td>[5, 5, 5]</td>\n",
       "      <td>[0, 0, 0]</td>\n",
       "      <td>[1, 0, 0]</td>\n",
       "      <td>[1, 0, 1]</td>\n",
       "      <td>[0, 0, 0]</td>\n",
       "      <td>[5, 1, 1]</td>\n",
       "      <td>[0, 0, 0]</td>\n",
       "      <td>[3, 3, 0]</td>\n",
       "      <td>[4, 0, 3]</td>\n",
       "      <td>...</td>\n",
       "      <td>[0, 0, 0]</td>\n",
       "      <td>[5, 0, 5]</td>\n",
       "      <td>[0, 0, 0]</td>\n",
       "      <td>[0, 1, 1]</td>\n",
       "      <td>[2, 0, 0]</td>\n",
       "      <td>[2, 5, 0]</td>\n",
       "      <td>[0, 0, 0]</td>\n",
       "      <td>[0, 1, 0]</td>\n",
       "      <td>[1, 0, 0]</td>\n",
       "      <td>[0, 0, 3]</td>\n",
       "    </tr>\n",
       "    <tr>\n",
       "      <th>tweet_url</th>\n",
       "      <td>https://twitter.com/user/status/11146793537140...</td>\n",
       "      <td>https://twitter.com/user/status/10630200488166...</td>\n",
       "      <td>https://twitter.com/user/status/11089273680753...</td>\n",
       "      <td>https://twitter.com/user/status/11145585346356...</td>\n",
       "      <td>https://twitter.com/user/status/10352524802155...</td>\n",
       "      <td>https://twitter.com/user/status/11069782196543...</td>\n",
       "      <td>https://twitter.com/user/status/11139200435684...</td>\n",
       "      <td>https://twitter.com/user/status/11145886176939...</td>\n",
       "      <td>https://twitter.com/user/status/10458095147406...</td>\n",
       "      <td>https://twitter.com/user/status/11081784539106...</td>\n",
       "      <td>...</td>\n",
       "      <td>https://twitter.com/user/status/11165348122637...</td>\n",
       "      <td>https://twitter.com/user/status/10621619487485...</td>\n",
       "      <td>https://twitter.com/user/status/11073923078154...</td>\n",
       "      <td>https://twitter.com/user/status/11054655525443...</td>\n",
       "      <td>https://twitter.com/user/status/11140660310714...</td>\n",
       "      <td>https://twitter.com/user/status/11141707344720...</td>\n",
       "      <td>https://twitter.com/user/status/11103681987868...</td>\n",
       "      <td>https://twitter.com/user/status/11069418585408...</td>\n",
       "      <td>https://twitter.com/user/status/11052683092331...</td>\n",
       "      <td>https://twitter.com/user/status/11146535143645...</td>\n",
       "    </tr>\n",
       "    <tr>\n",
       "      <th>tweet_text</th>\n",
       "      <td>@FriskDontMiss Nigga https://t.co/cAsaLWEpue</td>\n",
       "      <td>My horses are retarded https://t.co/HYhqc6d5WN</td>\n",
       "      <td>“NIGGA ON MA MOMMA YOUNGBOY BE SPITTING REAL S...</td>\n",
       "      <td>RT xxSuGVNGxx: I ran into this HOLY NIGGA TODA...</td>\n",
       "      <td>“EVERYbody calling you Nigger now!” https://t....</td>\n",
       "      <td>“ real ass bitch give a fuck boutta nigga” htt...</td>\n",
       "      <td>@WhiteHouse @realDonaldTrump Fuck ice. White s...</td>\n",
       "      <td>Day’s a cunt https://t.co/Ie6QZReHsw</td>\n",
       "      <td>#sissy faggot https://t.co/bm1nk8HcYO</td>\n",
       "      <td>@Gloriko_ Nigga what? https://t.co/nOwIJtgtU1</td>\n",
       "      <td>...</td>\n",
       "      <td>@urfavignantngga Salty ass nigga. Lol 🤣🤣🤣🤣 htt...</td>\n",
       "      <td>@MSNBC @KellyannePolls Ann shut up you mentall...</td>\n",
       "      <td>@jumpmanjimin oh u know i’m too much a real ni...</td>\n",
       "      <td>@quisLaFlare Good luck my nigga 🤘🏾 https://t.c...</td>\n",
       "      <td>Thanks \"— retarded\" For Following Me !!! https...</td>\n",
       "      <td>@svdate @gtconway3d I would just say hes Donny...</td>\n",
       "      <td>@Cheftime_Dev congrats my nigga keep on grindi...</td>\n",
       "      <td>My nigga big shitty https://t.co/e0snJGBgH9</td>\n",
       "      <td>did she just say “my nigga” to Rich? &amp;amp; she...</td>\n",
       "      <td>This nigga Joe Budden said thanos got a galact...</td>\n",
       "    </tr>\n",
       "    <tr>\n",
       "      <th>labels_str</th>\n",
       "      <td>[Religion, Racist, Homophobe]</td>\n",
       "      <td>[OtherHate, OtherHate, OtherHate]</td>\n",
       "      <td>[NotHate, NotHate, NotHate]</td>\n",
       "      <td>[Racist, NotHate, NotHate]</td>\n",
       "      <td>[Racist, NotHate, Racist]</td>\n",
       "      <td>[NotHate, NotHate, NotHate]</td>\n",
       "      <td>[OtherHate, Racist, Racist]</td>\n",
       "      <td>[NotHate, NotHate, NotHate]</td>\n",
       "      <td>[Homophobe, Homophobe, NotHate]</td>\n",
       "      <td>[Religion, NotHate, Homophobe]</td>\n",
       "      <td>...</td>\n",
       "      <td>[NotHate, NotHate, NotHate]</td>\n",
       "      <td>[OtherHate, NotHate, OtherHate]</td>\n",
       "      <td>[NotHate, NotHate, NotHate]</td>\n",
       "      <td>[NotHate, Racist, Racist]</td>\n",
       "      <td>[Sexist, NotHate, NotHate]</td>\n",
       "      <td>[Sexist, OtherHate, NotHate]</td>\n",
       "      <td>[NotHate, NotHate, NotHate]</td>\n",
       "      <td>[NotHate, Racist, NotHate]</td>\n",
       "      <td>[Racist, NotHate, NotHate]</td>\n",
       "      <td>[NotHate, NotHate, Homophobe]</td>\n",
       "    </tr>\n",
       "  </tbody>\n",
       "</table>\n",
       "<p>5 rows × 149823 columns</p>\n",
       "</div>"
      ],
      "text/plain": [
       "                                          1114679353714016256  \\\n",
       "img_url     http://pbs.twimg.com/tweet_video_thumb/D3gi9MH...   \n",
       "labels                                              [4, 1, 3]   \n",
       "tweet_url   https://twitter.com/user/status/11146793537140...   \n",
       "tweet_text       @FriskDontMiss Nigga https://t.co/cAsaLWEpue   \n",
       "labels_str                      [Religion, Racist, Homophobe]   \n",
       "\n",
       "                                          1063020048816660480  \\\n",
       "img_url     http://pbs.twimg.com/ext_tw_video_thumb/106301...   \n",
       "labels                                              [5, 5, 5]   \n",
       "tweet_url   https://twitter.com/user/status/10630200488166...   \n",
       "tweet_text     My horses are retarded https://t.co/HYhqc6d5WN   \n",
       "labels_str                  [OtherHate, OtherHate, OtherHate]   \n",
       "\n",
       "                                          1108927368075374593  \\\n",
       "img_url        http://pbs.twimg.com/media/D2OzhzHUwAADQjd.jpg   \n",
       "labels                                              [0, 0, 0]   \n",
       "tweet_url   https://twitter.com/user/status/11089273680753...   \n",
       "tweet_text  “NIGGA ON MA MOMMA YOUNGBOY BE SPITTING REAL S...   \n",
       "labels_str                        [NotHate, NotHate, NotHate]   \n",
       "\n",
       "                                          1114558534635618305  \\\n",
       "img_url     http://pbs.twimg.com/ext_tw_video_thumb/111401...   \n",
       "labels                                              [1, 0, 0]   \n",
       "tweet_url   https://twitter.com/user/status/11145585346356...   \n",
       "tweet_text  RT xxSuGVNGxx: I ran into this HOLY NIGGA TODA...   \n",
       "labels_str                         [Racist, NotHate, NotHate]   \n",
       "\n",
       "                                          1035252480215592966  \\\n",
       "img_url        http://pbs.twimg.com/media/Dl30pGIU8AAVGxO.jpg   \n",
       "labels                                              [1, 0, 1]   \n",
       "tweet_url   https://twitter.com/user/status/10352524802155...   \n",
       "tweet_text  “EVERYbody calling you Nigger now!” https://t....   \n",
       "labels_str                          [Racist, NotHate, Racist]   \n",
       "\n",
       "                                          1106978219654303744  \\\n",
       "img_url        http://pbs.twimg.com/media/D1zG0qnX4AAw9SC.jpg   \n",
       "labels                                              [0, 0, 0]   \n",
       "tweet_url   https://twitter.com/user/status/11069782196543...   \n",
       "tweet_text  “ real ass bitch give a fuck boutta nigga” htt...   \n",
       "labels_str                        [NotHate, NotHate, NotHate]   \n",
       "\n",
       "                                          1113920043568463874  \\\n",
       "img_url        http://pbs.twimg.com/media/D3VwYEKW4AYz4vk.jpg   \n",
       "labels                                              [5, 1, 1]   \n",
       "tweet_url   https://twitter.com/user/status/11139200435684...   \n",
       "tweet_text  @WhiteHouse @realDonaldTrump Fuck ice. White s...   \n",
       "labels_str                        [OtherHate, Racist, Racist]   \n",
       "\n",
       "                                          1114588617693966336  \\\n",
       "img_url        http://pbs.twimg.com/media/D3fQcCCWAAIG8tO.jpg   \n",
       "labels                                              [0, 0, 0]   \n",
       "tweet_url   https://twitter.com/user/status/11145886176939...   \n",
       "tweet_text               Day’s a cunt https://t.co/Ie6QZReHsw   \n",
       "labels_str                        [NotHate, NotHate, NotHate]   \n",
       "\n",
       "                                          1045809514740666370  \\\n",
       "img_url        http://pbs.twimg.com/media/DoN2KFmXcAAIT-Y.jpg   \n",
       "labels                                              [3, 3, 0]   \n",
       "tweet_url   https://twitter.com/user/status/10458095147406...   \n",
       "tweet_text              #sissy faggot https://t.co/bm1nk8HcYO   \n",
       "labels_str                    [Homophobe, Homophobe, NotHate]   \n",
       "\n",
       "                                          1108178453910695936  ...  \\\n",
       "img_url     http://pbs.twimg.com/ext_tw_video_thumb/110817...  ...   \n",
       "labels                                              [4, 0, 3]  ...   \n",
       "tweet_url   https://twitter.com/user/status/11081784539106...  ...   \n",
       "tweet_text      @Gloriko_ Nigga what? https://t.co/nOwIJtgtU1  ...   \n",
       "labels_str                     [Religion, NotHate, Homophobe]  ...   \n",
       "\n",
       "                                          1116534812263710720  \\\n",
       "img_url     http://pbs.twimg.com/tweet_video_thumb/D366fX4...   \n",
       "labels                                              [0, 0, 0]   \n",
       "tweet_url   https://twitter.com/user/status/11165348122637...   \n",
       "tweet_text  @urfavignantngga Salty ass nigga. Lol 🤣🤣🤣🤣 htt...   \n",
       "labels_str                        [NotHate, NotHate, NotHate]   \n",
       "\n",
       "                                          1062161948748513280  \\\n",
       "img_url        http://pbs.twimg.com/media/Dr2OnfWX4AAG0YR.jpg   \n",
       "labels                                              [5, 0, 5]   \n",
       "tweet_url   https://twitter.com/user/status/10621619487485...   \n",
       "tweet_text  @MSNBC @KellyannePolls Ann shut up you mentall...   \n",
       "labels_str                    [OtherHate, NotHate, OtherHate]   \n",
       "\n",
       "                                          1107392307815477250  \\\n",
       "img_url        http://pbs.twimg.com/media/D14_buJXcAAvw2Z.jpg   \n",
       "labels                                              [0, 0, 0]   \n",
       "tweet_url   https://twitter.com/user/status/11073923078154...   \n",
       "tweet_text  @jumpmanjimin oh u know i’m too much a real ni...   \n",
       "labels_str                        [NotHate, NotHate, NotHate]   \n",
       "\n",
       "                                          1105465552544374786  \\\n",
       "img_url     http://pbs.twimg.com/tweet_video_thumb/D1dnDez...   \n",
       "labels                                              [0, 1, 1]   \n",
       "tweet_url   https://twitter.com/user/status/11054655525443...   \n",
       "tweet_text  @quisLaFlare Good luck my nigga 🤘🏾 https://t.c...   \n",
       "labels_str                          [NotHate, Racist, Racist]   \n",
       "\n",
       "                                          1114066031071453184  \\\n",
       "img_url        http://pbs.twimg.com/media/D3X1JtrXkAAPHkL.jpg   \n",
       "labels                                              [2, 0, 0]   \n",
       "tweet_url   https://twitter.com/user/status/11140660310714...   \n",
       "tweet_text  Thanks \"— retarded\" For Following Me !!! https...   \n",
       "labels_str                         [Sexist, NotHate, NotHate]   \n",
       "\n",
       "                                          1114170734472048640  \\\n",
       "img_url     http://pbs.twimg.com/tweet_video_thumb/D3ZUXNw...   \n",
       "labels                                              [2, 5, 0]   \n",
       "tweet_url   https://twitter.com/user/status/11141707344720...   \n",
       "tweet_text  @svdate @gtconway3d I would just say hes Donny...   \n",
       "labels_str                       [Sexist, OtherHate, NotHate]   \n",
       "\n",
       "                                          1110368198786846720  \\\n",
       "img_url     http://pbs.twimg.com/ext_tw_video_thumb/111036...   \n",
       "labels                                              [0, 0, 0]   \n",
       "tweet_url   https://twitter.com/user/status/11103681987868...   \n",
       "tweet_text  @Cheftime_Dev congrats my nigga keep on grindi...   \n",
       "labels_str                        [NotHate, NotHate, NotHate]   \n",
       "\n",
       "                                          1106941858540851200  \\\n",
       "img_url        http://pbs.twimg.com/media/D1yluGmXgAEKNG5.jpg   \n",
       "labels                                              [0, 1, 0]   \n",
       "tweet_url   https://twitter.com/user/status/11069418585408...   \n",
       "tweet_text        My nigga big shitty https://t.co/e0snJGBgH9   \n",
       "labels_str                         [NotHate, Racist, NotHate]   \n",
       "\n",
       "                                          1105268309233188865  \\\n",
       "img_url     http://pbs.twimg.com/tweet_video_thumb/D1azqiz...   \n",
       "labels                                              [1, 0, 0]   \n",
       "tweet_url   https://twitter.com/user/status/11052683092331...   \n",
       "tweet_text  did she just say “my nigga” to Rich? &amp; she...   \n",
       "labels_str                         [Racist, NotHate, NotHate]   \n",
       "\n",
       "                                          1114653514364530691  \n",
       "img_url        http://pbs.twimg.com/media/D3gLdL0W0AENzVJ.jpg  \n",
       "labels                                              [0, 0, 3]  \n",
       "tweet_url   https://twitter.com/user/status/11146535143645...  \n",
       "tweet_text  This nigga Joe Budden said thanos got a galact...  \n",
       "labels_str                      [NotHate, NotHate, Homophobe]  \n",
       "\n",
       "[5 rows x 149823 columns]"
      ]
     },
     "execution_count": 5,
     "metadata": {},
     "output_type": "execute_result"
    }
   ],
   "source": [
    "hate_speech_ori.head(5)"
   ]
  },
  {
   "cell_type": "code",
   "execution_count": 6,
   "metadata": {},
   "outputs": [],
   "source": [
    "hate_speech_ori = hate_speech_ori.transpose()\n",
    "hate_speech_ori=hate_speech_ori.reset_index()\n",
    "hate_speech_ori.rename(columns={\"index\": \"user_id\"},inplace=True)"
   ]
  },
  {
   "cell_type": "code",
   "execution_count": 7,
   "metadata": {},
   "outputs": [
    {
     "data": {
      "text/html": [
       "<div>\n",
       "<style scoped>\n",
       "    .dataframe tbody tr th:only-of-type {\n",
       "        vertical-align: middle;\n",
       "    }\n",
       "\n",
       "    .dataframe tbody tr th {\n",
       "        vertical-align: top;\n",
       "    }\n",
       "\n",
       "    .dataframe thead th {\n",
       "        text-align: right;\n",
       "    }\n",
       "</style>\n",
       "<table border=\"1\" class=\"dataframe\">\n",
       "  <thead>\n",
       "    <tr style=\"text-align: right;\">\n",
       "      <th></th>\n",
       "      <th>user_id</th>\n",
       "      <th>img_url</th>\n",
       "      <th>labels</th>\n",
       "      <th>tweet_url</th>\n",
       "      <th>tweet_text</th>\n",
       "      <th>labels_str</th>\n",
       "    </tr>\n",
       "  </thead>\n",
       "  <tbody>\n",
       "    <tr>\n",
       "      <th>0</th>\n",
       "      <td>1114679353714016256</td>\n",
       "      <td>http://pbs.twimg.com/tweet_video_thumb/D3gi9MH...</td>\n",
       "      <td>[4, 1, 3]</td>\n",
       "      <td>https://twitter.com/user/status/11146793537140...</td>\n",
       "      <td>@FriskDontMiss Nigga https://t.co/cAsaLWEpue</td>\n",
       "      <td>[Religion, Racist, Homophobe]</td>\n",
       "    </tr>\n",
       "    <tr>\n",
       "      <th>1</th>\n",
       "      <td>1063020048816660480</td>\n",
       "      <td>http://pbs.twimg.com/ext_tw_video_thumb/106301...</td>\n",
       "      <td>[5, 5, 5]</td>\n",
       "      <td>https://twitter.com/user/status/10630200488166...</td>\n",
       "      <td>My horses are retarded https://t.co/HYhqc6d5WN</td>\n",
       "      <td>[OtherHate, OtherHate, OtherHate]</td>\n",
       "    </tr>\n",
       "    <tr>\n",
       "      <th>2</th>\n",
       "      <td>1108927368075374593</td>\n",
       "      <td>http://pbs.twimg.com/media/D2OzhzHUwAADQjd.jpg</td>\n",
       "      <td>[0, 0, 0]</td>\n",
       "      <td>https://twitter.com/user/status/11089273680753...</td>\n",
       "      <td>“NIGGA ON MA MOMMA YOUNGBOY BE SPITTING REAL S...</td>\n",
       "      <td>[NotHate, NotHate, NotHate]</td>\n",
       "    </tr>\n",
       "    <tr>\n",
       "      <th>3</th>\n",
       "      <td>1114558534635618305</td>\n",
       "      <td>http://pbs.twimg.com/ext_tw_video_thumb/111401...</td>\n",
       "      <td>[1, 0, 0]</td>\n",
       "      <td>https://twitter.com/user/status/11145585346356...</td>\n",
       "      <td>RT xxSuGVNGxx: I ran into this HOLY NIGGA TODA...</td>\n",
       "      <td>[Racist, NotHate, NotHate]</td>\n",
       "    </tr>\n",
       "    <tr>\n",
       "      <th>4</th>\n",
       "      <td>1035252480215592966</td>\n",
       "      <td>http://pbs.twimg.com/media/Dl30pGIU8AAVGxO.jpg</td>\n",
       "      <td>[1, 0, 1]</td>\n",
       "      <td>https://twitter.com/user/status/10352524802155...</td>\n",
       "      <td>“EVERYbody calling you Nigger now!” https://t....</td>\n",
       "      <td>[Racist, NotHate, Racist]</td>\n",
       "    </tr>\n",
       "  </tbody>\n",
       "</table>\n",
       "</div>"
      ],
      "text/plain": [
       "               user_id                                            img_url  \\\n",
       "0  1114679353714016256  http://pbs.twimg.com/tweet_video_thumb/D3gi9MH...   \n",
       "1  1063020048816660480  http://pbs.twimg.com/ext_tw_video_thumb/106301...   \n",
       "2  1108927368075374593     http://pbs.twimg.com/media/D2OzhzHUwAADQjd.jpg   \n",
       "3  1114558534635618305  http://pbs.twimg.com/ext_tw_video_thumb/111401...   \n",
       "4  1035252480215592966     http://pbs.twimg.com/media/Dl30pGIU8AAVGxO.jpg   \n",
       "\n",
       "      labels                                          tweet_url  \\\n",
       "0  [4, 1, 3]  https://twitter.com/user/status/11146793537140...   \n",
       "1  [5, 5, 5]  https://twitter.com/user/status/10630200488166...   \n",
       "2  [0, 0, 0]  https://twitter.com/user/status/11089273680753...   \n",
       "3  [1, 0, 0]  https://twitter.com/user/status/11145585346356...   \n",
       "4  [1, 0, 1]  https://twitter.com/user/status/10352524802155...   \n",
       "\n",
       "                                          tweet_text  \\\n",
       "0       @FriskDontMiss Nigga https://t.co/cAsaLWEpue   \n",
       "1     My horses are retarded https://t.co/HYhqc6d5WN   \n",
       "2  “NIGGA ON MA MOMMA YOUNGBOY BE SPITTING REAL S...   \n",
       "3  RT xxSuGVNGxx: I ran into this HOLY NIGGA TODA...   \n",
       "4  “EVERYbody calling you Nigger now!” https://t....   \n",
       "\n",
       "                          labels_str  \n",
       "0      [Religion, Racist, Homophobe]  \n",
       "1  [OtherHate, OtherHate, OtherHate]  \n",
       "2        [NotHate, NotHate, NotHate]  \n",
       "3         [Racist, NotHate, NotHate]  \n",
       "4          [Racist, NotHate, Racist]  "
      ]
     },
     "execution_count": 7,
     "metadata": {},
     "output_type": "execute_result"
    }
   ],
   "source": [
    "hate_speech_ori.head(5)"
   ]
  },
  {
   "cell_type": "code",
   "execution_count": 8,
   "metadata": {},
   "outputs": [],
   "source": [
    "hate_speech_df = hate_speech_ori.copy()"
   ]
  },
  {
   "cell_type": "markdown",
   "metadata": {},
   "source": [
    "## Preprocessing Dataset"
   ]
  },
  {
   "cell_type": "code",
   "execution_count": 9,
   "metadata": {
    "scrolled": false
   },
   "outputs": [
    {
     "name": "stderr",
     "output_type": "stream",
     "text": [
      "[nltk_data] Downloading package stopwords to\n",
      "[nltk_data]     C:\\Users\\hnbhu\\AppData\\Roaming\\nltk_data...\n",
      "[nltk_data]   Package stopwords is already up-to-date!\n",
      "[nltk_data] Downloading package rslp to\n",
      "[nltk_data]     C:\\Users\\hnbhu\\AppData\\Roaming\\nltk_data...\n",
      "[nltk_data]   Package rslp is already up-to-date!\n"
     ]
    }
   ],
   "source": [
    "import nltk\n",
    "from nltk import tokenize\n",
    "from nltk.corpus import stopwords\n",
    "from nltk.tokenize import RegexpTokenizer, word_tokenize\n",
    "from nltk.stem import WordNetLemmatizer\n",
    "from nltk.stem.porter import PorterStemmer\n",
    "# nltk.download('wordnet')\n",
    "# nltk.download('averaged_perceptron_tagger')\n",
    "nltk.download('stopwords')\n",
    "nltk.download('rslp')\n",
    "from sklearn.feature_extraction.text import TfidfVectorizer, CountVectorizer"
   ]
  },
  {
   "cell_type": "code",
   "execution_count": 10,
   "metadata": {},
   "outputs": [],
   "source": [
    "preprocess_df=hate_speech_df.copy()"
   ]
  },
  {
   "cell_type": "code",
   "execution_count": 11,
   "metadata": {},
   "outputs": [
    {
     "data": {
      "text/plain": [
       "<bound method IndexOpsMixin.value_counts of 0         [4, 1, 3]\n",
       "1         [5, 5, 5]\n",
       "2         [0, 0, 0]\n",
       "3         [1, 0, 0]\n",
       "4         [1, 0, 1]\n",
       "            ...    \n",
       "149818    [2, 5, 0]\n",
       "149819    [0, 0, 0]\n",
       "149820    [0, 1, 0]\n",
       "149821    [1, 0, 0]\n",
       "149822    [0, 0, 3]\n",
       "Name: labels, Length: 149823, dtype: object>"
      ]
     },
     "execution_count": 11,
     "metadata": {},
     "output_type": "execute_result"
    }
   ],
   "source": [
    "preprocess_df['labels'].value_counts"
   ]
  },
  {
   "cell_type": "code",
   "execution_count": 12,
   "metadata": {},
   "outputs": [
    {
     "data": {
      "text/plain": [
       "<AxesSubplot:>"
      ]
     },
     "execution_count": 12,
     "metadata": {},
     "output_type": "execute_result"
    },
    {
     "data": {
      "image/png": "[encoded data removed]",
      "text/plain": [
       "<Figure size 432x288 with 1 Axes>"
      ]
     },
     "metadata": {
      "needs_background": "light"
     },
     "output_type": "display_data"
    }
   ],
   "source": [
    "# deal with the NaN values in the data\n",
    "sns.heatmap(preprocess_df.isnull(),yticklabels=False,cbar=False,cmap='viridis')"
   ]
  },
  {
   "cell_type": "code",
   "execution_count": 13,
   "metadata": {},
   "outputs": [],
   "source": [
    "# processedtext=[]\n",
    "# for lis in preprocess_df['tweet_text']:\n",
    "#     processedtext.append(lis)\n",
    "# processedtext[1:5]"
   ]
  },
  {
   "cell_type": "code",
   "execution_count": 14,
   "metadata": {},
   "outputs": [],
   "source": [
    "# preprocess_df['text_lem'] = [''.join([WordNetLemmatizer().lemmatize(re.sub('[^A-Za-z]',' ',text)) for text in lis]) for lis in preprocess_df['tweet_text']]"
   ]
  },
  {
   "cell_type": "code",
   "execution_count": 15,
   "metadata": {},
   "outputs": [],
   "source": [
    "# preprocess_df['tweet_text'][3]"
   ]
  },
  {
   "cell_type": "code",
   "execution_count": 16,
   "metadata": {},
   "outputs": [],
   "source": [
    "# preprocess_df['text_lem'][3]"
   ]
  },
  {
   "cell_type": "code",
   "execution_count": 17,
   "metadata": {},
   "outputs": [],
   "source": [
    "# Select first label in hate_speech labels\n",
    "label_1 = []\n",
    "for x in preprocess_df['labels'].values:\n",
    "    label_1.append(x[0])\n",
    "    \n",
    "preprocess_df['label_1'] = label_1"
   ]
  },
  {
   "cell_type": "code",
   "execution_count": 18,
   "metadata": {},
   "outputs": [
    {
     "data": {
      "text/plain": [
       "0         4\n",
       "1         5\n",
       "2         0\n",
       "3         1\n",
       "4         1\n",
       "         ..\n",
       "149818    2\n",
       "149819    0\n",
       "149820    0\n",
       "149821    1\n",
       "149822    0\n",
       "Name: label_1, Length: 149823, dtype: int64"
      ]
     },
     "execution_count": 18,
     "metadata": {},
     "output_type": "execute_result"
    }
   ],
   "source": [
    "preprocess_df['label_1']"
   ]
  },
  {
   "cell_type": "markdown",
   "metadata": {},
   "source": [
    "## Cleaning the texts"
   ]
  },
  {
   "cell_type": "code",
   "execution_count": 19,
   "metadata": {},
   "outputs": [],
   "source": [
    "def preprocessing(data):\n",
    "    stemmer = nltk.stem.RSLPStemmer()\n",
    "    all_stopwords = stopwords.words('english')\n",
    "    all_stopwords.remove('not')\n",
    "    corpus = []\n",
    "    for tweet in data:\n",
    "      review = re.sub(r\"@[A-Za-z0-9_]+\", \" \", tweet)\n",
    "      review = re.sub('RT', ' ', review)\n",
    "      review = re.sub(r\"https?://[A-Za-z0-9./]+\", \" \", review)\n",
    "      review = re.sub(r\"https?\", \" \", review)\n",
    "      review = re.sub('[^a-zA-Z]', ' ', review)\n",
    "      review = review.lower()\n",
    "      review = review.split()\n",
    "      ps = PorterStemmer()\n",
    "      review = [ps.stem(word) for word in review if not word in set(all_stopwords) if len(word) > 2]\n",
    "      review = ' '.join(review)\n",
    "      corpus.append(review)\n",
    "\n",
    "    return np.array(corpus)"
   ]
  },
  {
   "cell_type": "code",
   "execution_count": 20,
   "metadata": {},
   "outputs": [
    {
     "data": {
      "text/plain": [
       "(149823,)"
      ]
     },
     "execution_count": 20,
     "metadata": {},
     "output_type": "execute_result"
    }
   ],
   "source": [
    "corpus = preprocessing(preprocess_df['tweet_text'])\n",
    "corpus.shape"
   ]
  },
  {
   "cell_type": "code",
   "execution_count": 21,
   "metadata": {},
   "outputs": [
    {
     "data": {
      "text/plain": [
       "array(['nigga', 'hors retard',\n",
       "       'nigga momma youngboy spit real shit nigga', ...,\n",
       "       'nigga big shitti',\n",
       "       'say nigga rich amp said anger mmph lhhni lhhnyreunion',\n",
       "       'nigga joe budden said thano got galact ass'], dtype='<U110')"
      ]
     },
     "execution_count": 21,
     "metadata": {},
     "output_type": "execute_result"
    }
   ],
   "source": [
    "corpus"
   ]
  },
  {
   "cell_type": "markdown",
   "metadata": {},
   "source": [
    "# TF-IDF"
   ]
  },
  {
   "cell_type": "code",
   "execution_count": 22,
   "metadata": {
    "scrolled": true
   },
   "outputs": [
    {
     "name": "stdout",
     "output_type": "stream",
     "text": [
      "Data Split done.\n",
      "X_train shape:  (119858,)\n",
      "y_train shape:  (119858,)\n",
      "X_test shape:  (29965,)\n",
      "y_test.shape:  (29965,)\n"
     ]
    }
   ],
   "source": [
    "X_train, X_test, y_train, y_test = train_test_split(corpus,preprocess_df['label_1'],test_size = 0.2,random_state=42)\n",
    "\n",
    "# X_train, X_test, y_train, y_test = train_test_split(preprocess_df['tweet_text'],preprocess_df['label_1'],test_size = 0.2,random_state=42)\n",
    "print(f'Data Split done.')\n",
    "# checking shapes of each\n",
    "print(\"X_train shape: \", X_train.shape)\n",
    "print(\"y_train shape: \", y_train.shape)\n",
    "print(\"X_test shape: \", X_test.shape)\n",
    "print(\"y_test.shape: \", y_test.shape)"
   ]
  },
  {
   "cell_type": "code",
   "execution_count": 23,
   "metadata": {},
   "outputs": [],
   "source": [
    "# create the transform\n",
    "vectorizer = TfidfVectorizer(\n",
    "        ngram_range=(1,4),\n",
    "        use_idf=True,\n",
    "        sublinear_tf=True,\n",
    "        analyzer=\"word\",\n",
    "        tokenizer=None,\n",
    "        preprocessor=None,\n",
    "        stop_words=('english'),\n",
    "        # token_pattern=\"^[a-zA-Z0-9_][a-zA-Z0-9_][a-zA-Z0-9_]*\",\n",
    "        max_features=None\n",
    "    )"
   ]
  },
  {
   "cell_type": "code",
   "execution_count": 24,
   "metadata": {},
   "outputs": [],
   "source": [
    "# # tokenize and build vocab\n",
    "# vectorizer.fit_trainform(X_train)\n",
    "# print(f'Vectoriser fitted.')\n",
    "# print('No. of feature_words: ', len(vectorizer.get_feature_names()))"
   ]
  },
  {
   "cell_type": "markdown",
   "metadata": {},
   "source": [
    "## Tranforming the dataset\n",
    "Transforming the X_train and X_test dataset into matrix of TF-IDF Features by using the TF-IDF Vectoriser. This datasets will be used to train the model and test against it."
   ]
  },
  {
   "cell_type": "code",
   "execution_count": 25,
   "metadata": {},
   "outputs": [
    {
     "name": "stdout",
     "output_type": "stream",
     "text": [
      "Data Transformed.\n"
     ]
    }
   ],
   "source": [
    "# encode document\n",
    "# X_train = vectorizer.transform(X_train)\n",
    "# X_test  = vectorizer.transform(X_test)\n",
    "\n",
    "vect_transformed_X_train = vectorizer.fit_transform(X_train)\n",
    "# vect_transformed_X_test = vectorizer.fit_transform(X_test)\n",
    "print(f'Data Transformed.')"
   ]
  },
  {
   "cell_type": "code",
   "execution_count": 26,
   "metadata": {},
   "outputs": [
    {
     "name": "stderr",
     "output_type": "stream",
     "text": [
      "IOPub data rate exceeded.\n",
      "The notebook server will temporarily stop sending output\n",
      "to the client in order to avoid crashing it.\n",
      "To change this limit, set the config variable\n",
      "`--NotebookApp.iopub_data_rate_limit`.\n",
      "\n",
      "Current values:\n",
      "NotebookApp.iopub_data_rate_limit=1000000.0 (bytes/sec)\n",
      "NotebookApp.rate_limit_window=3.0 (secs)\n",
      "\n"
     ]
    }
   ],
   "source": [
    "print(vectorizer.vocabulary_)\n",
    "print(vectorizer.idf_)"
   ]
  },
  {
   "cell_type": "code",
   "execution_count": 27,
   "metadata": {},
   "outputs": [
    {
     "name": "stdout",
     "output_type": "stream",
     "text": [
      "(119858, 878361)\n",
      "(119858,)\n"
     ]
    }
   ],
   "source": [
    "# summarize encoded vector\n",
    "print(vect_transformed_X_train.shape)\n",
    "print(y_train.shape)"
   ]
  },
  {
   "cell_type": "code",
   "execution_count": 28,
   "metadata": {},
   "outputs": [
    {
     "data": {
      "text/plain": [
       "scipy.sparse.csr.csr_matrix"
      ]
     },
     "execution_count": 28,
     "metadata": {},
     "output_type": "execute_result"
    }
   ],
   "source": [
    "type(vect_transformed_X_train[2])"
   ]
  },
  {
   "cell_type": "markdown",
   "metadata": {},
   "source": [
    "## LinearSVC"
   ]
  },
  {
   "cell_type": "code",
   "execution_count": 29,
   "metadata": {},
   "outputs": [
    {
     "name": "stdout",
     "output_type": "stream",
     "text": [
      "Training model complete.\n",
      "Time Taken: 11040 seconds\n"
     ]
    }
   ],
   "source": [
    "import time\n",
    "t = time.time()\n",
    "svm_clf = SVC(kernel='linear')\n",
    "modelSVC = svm_clf.fit(vect_transformed_X_train, y_train)\n",
    "print(f'Training model complete.')\n",
    "print(f'Time Taken: {round(time.time()-t)} seconds')"
   ]
  },
  {
   "cell_type": "code",
   "execution_count": 31,
   "metadata": {},
   "outputs": [
    {
     "name": "stdout",
     "output_type": "stream",
     "text": [
      "(29965, 254912)\n"
     ]
    }
   ],
   "source": [
    "print(vect_transformed_X_test.shape)"
   ]
  },
  {
   "cell_type": "code",
   "execution_count": 36,
   "metadata": {},
   "outputs": [
    {
     "data": {
      "text/plain": [
       "TfidfVectorizer(ngram_range=(1, 4), stop_words='english', sublinear_tf=True)"
      ]
     },
     "execution_count": 36,
     "metadata": {},
     "output_type": "execute_result"
    }
   ],
   "source": [
    "vectorizer.fit(X_train)"
   ]
  },
  {
   "cell_type": "code",
   "execution_count": 37,
   "metadata": {},
   "outputs": [
    {
     "data": {
      "text/plain": [
       "(29965, 878361)"
      ]
     },
     "execution_count": 37,
     "metadata": {},
     "output_type": "execute_result"
    }
   ],
   "source": [
    "vect_transformed_X_test  = vectorizer.transform(X_test)\n",
    "vect_transformed_X_test.shape"
   ]
  },
  {
   "cell_type": "code",
   "execution_count": 40,
   "metadata": {
    "scrolled": true
   },
   "outputs": [],
   "source": [
    "predictionsSVC = svm_clf.predict(vect_transformed_X_test)"
   ]
  },
  {
   "cell_type": "code",
   "execution_count": 41,
   "metadata": {},
   "outputs": [],
   "source": [
    "# sum(predictionsSVC==1),len(y_test),f1_score(y_test,predictionsSVC)"
   ]
  },
  {
   "cell_type": "code",
   "execution_count": 51,
   "metadata": {},
   "outputs": [],
   "source": [
    "# save the model to disk\n",
    "filename = 'SVM_model_onelabel.sav'\n",
    "pickle.dump(svm_clf, open(filename, 'wb'))"
   ]
  },
  {
   "cell_type": "markdown",
   "metadata": {},
   "source": [
    "## Report metrics"
   ]
  },
  {
   "cell_type": "code",
   "execution_count": 49,
   "metadata": {},
   "outputs": [
    {
     "name": "stdout",
     "output_type": "stream",
     "text": [
      "Accuracy is: 0.7014\n",
      "\n"
     ]
    }
   ],
   "source": [
    "accuracy = accuracy_score(y_test, predictionsSVC)\n",
    "print(\"Accuracy is: %.4f\\n\" % accuracy)"
   ]
  },
  {
   "cell_type": "code",
   "execution_count": 47,
   "metadata": {},
   "outputs": [
    {
     "name": "stdout",
     "output_type": "stream",
     "text": [
      "              precision    recall  f1-score   support\n",
      "\n",
      "           0       0.72      0.95      0.82     20984\n",
      "           1       0.46      0.08      0.14      4123\n",
      "           2       0.32      0.02      0.05      1512\n",
      "           3       0.46      0.32      0.38      1121\n",
      "           4       0.50      0.02      0.05       121\n",
      "           5       0.47      0.15      0.23      2104\n",
      "\n",
      "    accuracy                           0.70     29965\n",
      "   macro avg       0.49      0.26      0.28     29965\n",
      "weighted avg       0.64      0.70      0.63     29965\n",
      "\n"
     ]
    }
   ],
   "source": [
    "print(classification_report(y_test, predictionsSVC))"
   ]
  },
  {
   "cell_type": "markdown",
   "metadata": {},
   "source": [
    "F1 score is used as an evaluation measure as, when the data is skewed like in this case, where the number of hate speech tweets are very less, accuracy cannot be relied upon."
   ]
  }
 ],
 "metadata": {
  "kernelspec": {
   "display_name": "Python 3",
   "language": "python",
   "name": "python3"
  },
  "language_info": {
   "codemirror_mode": {
    "name": "ipython",
    "version": 3
   },
   "file_extension": ".py",
   "mimetype": "text/x-python",
   "name": "python",
   "nbconvert_exporter": "python",
   "pygments_lexer": "ipython3",
   "version": "3.8.5"
  }
 },
 "nbformat": 4,
 "nbformat_minor": 4
}
