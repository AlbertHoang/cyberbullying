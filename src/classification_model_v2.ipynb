{
 "cells": [
  {
   "cell_type": "code",
   "execution_count": 1,
   "metadata": {
    "scrolled": false
   },
   "outputs": [],
   "source": [
    "# utilities\n",
    "import re\n",
    "import pickle\n",
    "import numpy as np\n",
    "import pandas as pd\n",
    "import json\n",
    "import os\n",
    "from os.path import join\n",
    "\n",
    "# plotting\n",
    "import seaborn as sns\n",
    "import matplotlib.pyplot as plt\n",
    "%matplotlib inline\n",
    "float_formatter = \"{:.4f}\".format\n",
    "np.set_printoptions(formatter={'float_kind':float_formatter})\n",
    "import warnings\n",
    "warnings.filterwarnings(\"ignore\", category=FutureWarning)\n",
    "\n",
    "# sklearn\n",
    "from sklearn.svm import LinearSVC, SVC\n",
    "from sklearn.linear_model import LogisticRegression, SGDClassifier\n",
    "from sklearn.preprocessing import StandardScaler\n",
    "from sklearn.model_selection import train_test_split, GridSearchCV\n",
    "\n",
    "from sklearn import metrics\n",
    "from sklearn.metrics import confusion_matrix, accuracy_score, plot_confusion_matrix, classification_report, f1_score, roc_auc_score,roc_curve,auc\n",
    "\n",
    "# Features Extraction\n",
    "from sklearn.feature_extraction.text import TfidfVectorizer\n",
    "\n",
    "#---Neural Network\n",
    "from sklearn.neural_network import MLPClassifier\n",
    "\n",
    "#---Multiclass Classification\n",
    "from sklearn.svm import LinearSVC, SVC\n",
    "from sklearn.ensemble import RandomForestClassifier\n",
    "from sklearn.naive_bayes import GaussianNB\n",
    "from sklearn.naive_bayes import BernoulliNB, MultinomialNB\n",
    "\n",
    "import xgboost as xgb\n",
    "from xgboost.sklearn import XGBClassifier\n",
    "from xgboost import XGBRegressor\n",
    "from xgboost import XGBRFRegressor\n"
   ]
  },
  {
   "cell_type": "code",
   "execution_count": null,
   "metadata": {},
   "outputs": [],
   "source": [
    "# !pip3 install xgboost\n",
    "# import xgboost as xgb\n",
    "# from xgboost.sklearn import XGBClassifier\n",
    "# from xgboost import XGBRegressor\n",
    "# from xgboost import XGBRFRegressor"
   ]
  },
  {
   "cell_type": "code",
   "execution_count": 2,
   "metadata": {},
   "outputs": [],
   "source": [
    "## Runing on Colab\n",
    "## /content/drive/MyDrive/git/cyberbullying/input/hate_speech/MMHS150K_GT.json\n",
    "# dataset_directory = '/content/drive/MyDrive/git/cyberbullying/input/hate_speech' \n",
    "# img_txt_directory = '/content/drive/MyDrive/git/cyberbullying/input/hate_speech/img_txt' \n",
    "# img_resized_directory = '/content/drive/MyDrive/git/cyberbullying/input/hate_speech/img_resized' \n",
    "# splits_directory = '/content/drive/MyDrive/git/cyberbullying/input/hate_speech/splits' \n",
    "\n",
    "## Runing on Local\n",
    "dataset_directory = 'D:\\\\git\\\\cyberbullying\\\\input\\\\hate_speech' \n",
    "# img_txt_directory = 'D:\\\\git\\\\cyberbullying\\\\input\\\\hate_speech\\\\img_txt' \n",
    "# img_resized_directory = 'D:\\\\git\\\\cyberbullying\\\\input\\\\hate_speech\\\\img_resized' \n",
    "# splits_directory = 'D:\\\\git\\\\cyberbullying\\\\input\\\\hate_speech\\\\splits' "
   ]
  },
  {
   "cell_type": "code",
   "execution_count": 3,
   "metadata": {},
   "outputs": [],
   "source": [
    "with open(join(dataset_directory,'MMHS150K_GT.json')) as json_file:\n",
    "    hate_speech_data = json.load(json_file)"
   ]
  },
  {
   "cell_type": "code",
   "execution_count": 4,
   "metadata": {},
   "outputs": [],
   "source": [
    "hate_speech_ori = pd.DataFrame(hate_speech_data)"
   ]
  },
  {
   "cell_type": "code",
   "execution_count": 5,
   "metadata": {},
   "outputs": [],
   "source": [
    "hate_speech_ori = hate_speech_ori.transpose()\n",
    "hate_speech_ori=hate_speech_ori.reset_index()\n",
    "hate_speech_ori.rename(columns={\"index\": \"user_id\"},inplace=True)"
   ]
  },
  {
   "cell_type": "code",
   "execution_count": 6,
   "metadata": {},
   "outputs": [
    {
     "data": {
      "text/html": [
       "<div>\n",
       "<style scoped>\n",
       "    .dataframe tbody tr th:only-of-type {\n",
       "        vertical-align: middle;\n",
       "    }\n",
       "\n",
       "    .dataframe tbody tr th {\n",
       "        vertical-align: top;\n",
       "    }\n",
       "\n",
       "    .dataframe thead th {\n",
       "        text-align: right;\n",
       "    }\n",
       "</style>\n",
       "<table border=\"1\" class=\"dataframe\">\n",
       "  <thead>\n",
       "    <tr style=\"text-align: right;\">\n",
       "      <th></th>\n",
       "      <th>user_id</th>\n",
       "      <th>img_url</th>\n",
       "      <th>labels</th>\n",
       "      <th>tweet_url</th>\n",
       "      <th>tweet_text</th>\n",
       "      <th>labels_str</th>\n",
       "    </tr>\n",
       "  </thead>\n",
       "  <tbody>\n",
       "    <tr>\n",
       "      <th>0</th>\n",
       "      <td>1114679353714016256</td>\n",
       "      <td>http://pbs.twimg.com/tweet_video_thumb/D3gi9MH...</td>\n",
       "      <td>[4, 1, 3]</td>\n",
       "      <td>https://twitter.com/user/status/11146793537140...</td>\n",
       "      <td>@FriskDontMiss Nigga https://t.co/cAsaLWEpue</td>\n",
       "      <td>[Religion, Racist, Homophobe]</td>\n",
       "    </tr>\n",
       "    <tr>\n",
       "      <th>1</th>\n",
       "      <td>1063020048816660480</td>\n",
       "      <td>http://pbs.twimg.com/ext_tw_video_thumb/106301...</td>\n",
       "      <td>[5, 5, 5]</td>\n",
       "      <td>https://twitter.com/user/status/10630200488166...</td>\n",
       "      <td>My horses are retarded https://t.co/HYhqc6d5WN</td>\n",
       "      <td>[OtherHate, OtherHate, OtherHate]</td>\n",
       "    </tr>\n",
       "    <tr>\n",
       "      <th>2</th>\n",
       "      <td>1108927368075374593</td>\n",
       "      <td>http://pbs.twimg.com/media/D2OzhzHUwAADQjd.jpg</td>\n",
       "      <td>[0, 0, 0]</td>\n",
       "      <td>https://twitter.com/user/status/11089273680753...</td>\n",
       "      <td>“NIGGA ON MA MOMMA YOUNGBOY BE SPITTING REAL S...</td>\n",
       "      <td>[NotHate, NotHate, NotHate]</td>\n",
       "    </tr>\n",
       "    <tr>\n",
       "      <th>3</th>\n",
       "      <td>1114558534635618305</td>\n",
       "      <td>http://pbs.twimg.com/ext_tw_video_thumb/111401...</td>\n",
       "      <td>[1, 0, 0]</td>\n",
       "      <td>https://twitter.com/user/status/11145585346356...</td>\n",
       "      <td>RT xxSuGVNGxx: I ran into this HOLY NIGGA TODA...</td>\n",
       "      <td>[Racist, NotHate, NotHate]</td>\n",
       "    </tr>\n",
       "    <tr>\n",
       "      <th>4</th>\n",
       "      <td>1035252480215592966</td>\n",
       "      <td>http://pbs.twimg.com/media/Dl30pGIU8AAVGxO.jpg</td>\n",
       "      <td>[1, 0, 1]</td>\n",
       "      <td>https://twitter.com/user/status/10352524802155...</td>\n",
       "      <td>“EVERYbody calling you Nigger now!” https://t....</td>\n",
       "      <td>[Racist, NotHate, Racist]</td>\n",
       "    </tr>\n",
       "  </tbody>\n",
       "</table>\n",
       "</div>"
      ],
      "text/plain": [
       "               user_id                                            img_url  \\\n",
       "0  1114679353714016256  http://pbs.twimg.com/tweet_video_thumb/D3gi9MH...   \n",
       "1  1063020048816660480  http://pbs.twimg.com/ext_tw_video_thumb/106301...   \n",
       "2  1108927368075374593     http://pbs.twimg.com/media/D2OzhzHUwAADQjd.jpg   \n",
       "3  1114558534635618305  http://pbs.twimg.com/ext_tw_video_thumb/111401...   \n",
       "4  1035252480215592966     http://pbs.twimg.com/media/Dl30pGIU8AAVGxO.jpg   \n",
       "\n",
       "      labels                                          tweet_url  \\\n",
       "0  [4, 1, 3]  https://twitter.com/user/status/11146793537140...   \n",
       "1  [5, 5, 5]  https://twitter.com/user/status/10630200488166...   \n",
       "2  [0, 0, 0]  https://twitter.com/user/status/11089273680753...   \n",
       "3  [1, 0, 0]  https://twitter.com/user/status/11145585346356...   \n",
       "4  [1, 0, 1]  https://twitter.com/user/status/10352524802155...   \n",
       "\n",
       "                                          tweet_text  \\\n",
       "0       @FriskDontMiss Nigga https://t.co/cAsaLWEpue   \n",
       "1     My horses are retarded https://t.co/HYhqc6d5WN   \n",
       "2  “NIGGA ON MA MOMMA YOUNGBOY BE SPITTING REAL S...   \n",
       "3  RT xxSuGVNGxx: I ran into this HOLY NIGGA TODA...   \n",
       "4  “EVERYbody calling you Nigger now!” https://t....   \n",
       "\n",
       "                          labels_str  \n",
       "0      [Religion, Racist, Homophobe]  \n",
       "1  [OtherHate, OtherHate, OtherHate]  \n",
       "2        [NotHate, NotHate, NotHate]  \n",
       "3         [Racist, NotHate, NotHate]  \n",
       "4          [Racist, NotHate, Racist]  "
      ]
     },
     "execution_count": 6,
     "metadata": {},
     "output_type": "execute_result"
    }
   ],
   "source": [
    "hate_speech_ori.head(5)"
   ]
  },
  {
   "cell_type": "code",
   "execution_count": 7,
   "metadata": {},
   "outputs": [],
   "source": [
    "hate_speech_df = hate_speech_ori.copy()"
   ]
  },
  {
   "cell_type": "markdown",
   "metadata": {},
   "source": [
    "## Preprocessing Dataset"
   ]
  },
  {
   "cell_type": "code",
   "execution_count": 8,
   "metadata": {
    "scrolled": false
   },
   "outputs": [
    {
     "name": "stderr",
     "output_type": "stream",
     "text": [
      "[nltk_data] Downloading package wordnet to\n",
      "[nltk_data]     C:\\Users\\hnbhu\\AppData\\Roaming\\nltk_data...\n",
      "[nltk_data]   Package wordnet is already up-to-date!\n",
      "[nltk_data] Downloading package averaged_perceptron_tagger to\n",
      "[nltk_data]     C:\\Users\\hnbhu\\AppData\\Roaming\\nltk_data...\n",
      "[nltk_data]   Package averaged_perceptron_tagger is already up-to-\n",
      "[nltk_data]       date!\n",
      "[nltk_data] Downloading package stopwords to\n",
      "[nltk_data]     C:\\Users\\hnbhu\\AppData\\Roaming\\nltk_data...\n",
      "[nltk_data]   Package stopwords is already up-to-date!\n",
      "[nltk_data] Downloading package rslp to\n",
      "[nltk_data]     C:\\Users\\hnbhu\\AppData\\Roaming\\nltk_data...\n",
      "[nltk_data]   Package rslp is already up-to-date!\n"
     ]
    }
   ],
   "source": [
    "import nltk\n",
    "import string\n",
    "from nltk import tokenize, pos_tag\n",
    "from nltk.corpus import stopwords\n",
    "from nltk.tokenize import RegexpTokenizer, word_tokenize\n",
    "from nltk.stem import WordNetLemmatizer\n",
    "from nltk.stem.porter import PorterStemmer\n",
    "nltk.download('wordnet')\n",
    "nltk.download('averaged_perceptron_tagger')\n",
    "nltk.download('stopwords')\n",
    "nltk.download('rslp')\n",
    "from sklearn.feature_extraction.text import TfidfVectorizer, CountVectorizer"
   ]
  },
  {
   "cell_type": "code",
   "execution_count": 9,
   "metadata": {},
   "outputs": [],
   "source": [
    "preprocess_df=hate_speech_df.copy()"
   ]
  },
  {
   "cell_type": "code",
   "execution_count": 10,
   "metadata": {},
   "outputs": [
    {
     "data": {
      "text/plain": [
       "<bound method IndexOpsMixin.value_counts of 0         [4, 1, 3]\n",
       "1         [5, 5, 5]\n",
       "2         [0, 0, 0]\n",
       "3         [1, 0, 0]\n",
       "4         [1, 0, 1]\n",
       "            ...    \n",
       "149818    [2, 5, 0]\n",
       "149819    [0, 0, 0]\n",
       "149820    [0, 1, 0]\n",
       "149821    [1, 0, 0]\n",
       "149822    [0, 0, 3]\n",
       "Name: labels, Length: 149823, dtype: object>"
      ]
     },
     "execution_count": 10,
     "metadata": {},
     "output_type": "execute_result"
    }
   ],
   "source": [
    "preprocess_df['labels'].value_counts"
   ]
  },
  {
   "cell_type": "code",
   "execution_count": null,
   "metadata": {},
   "outputs": [],
   "source": [
    "# deal with the NaN values in the data\n",
    "# sns.heatmap(preprocess_df.isnull(),yticklabels=False,cbar=False,cmap='viridis')"
   ]
  },
  {
   "cell_type": "code",
   "execution_count": null,
   "metadata": {},
   "outputs": [],
   "source": [
    "# processedtext=[]\n",
    "# for lis in preprocess_df['tweet_text']:\n",
    "#     processedtext.append(lis)\n",
    "# processedtext[1:5]"
   ]
  },
  {
   "cell_type": "code",
   "execution_count": null,
   "metadata": {},
   "outputs": [],
   "source": [
    "# preprocess_df['text_lem'] = [''.join([WordNetLemmatizer().lemmatize(re.sub('[^A-Za-z]',' ',text)) for text in lis]) for lis in preprocess_df['tweet_text']]"
   ]
  },
  {
   "cell_type": "code",
   "execution_count": 11,
   "metadata": {},
   "outputs": [],
   "source": [
    "# Select first label in hate_speech labels\n",
    "label_1 = []\n",
    "for x in preprocess_df['labels'].values:\n",
    "    label_1.append(x[0])\n",
    "    \n",
    "preprocess_df['label_1'] = label_1"
   ]
  },
  {
   "cell_type": "markdown",
   "metadata": {},
   "source": [
    "## Cleaning the texts"
   ]
  },
  {
   "cell_type": "code",
   "execution_count": 12,
   "metadata": {},
   "outputs": [],
   "source": [
    "def preprocessing(data):\n",
    "    stemmer = nltk.stem.RSLPStemmer()\n",
    "    all_stopwords = stopwords.words('english')\n",
    "    all_stopwords.remove('not')\n",
    "    corpus = []\n",
    "    for tweet in data:\n",
    "        review = re.sub(r\"@[A-Za-z0-9_]+\", \" \", tweet)\n",
    "        review = re.sub('RT', ' ', review)\n",
    "        review = re.sub(r\"https?://[A-Za-z0-9./]+\", \" \", review)\n",
    "        review = re.sub(r\"https?\", \" \", review)\n",
    "        review = re.sub('[^a-zA-Z]', ' ', review)\n",
    "        review = review.lower()\n",
    "        review = review.split()\n",
    "        ps = PorterStemmer()\n",
    "        review = [ps.stem(word) for word in review if not word in set(all_stopwords) if len(word) > 2] \n",
    "        review = ' '.join(review)\n",
    "        corpus.append(review)\n",
    "\n",
    "    return np.array(corpus)"
   ]
  },
  {
   "cell_type": "code",
   "execution_count": 13,
   "metadata": {},
   "outputs": [
    {
     "data": {
      "text/plain": [
       "(149823,)"
      ]
     },
     "execution_count": 13,
     "metadata": {},
     "output_type": "execute_result"
    }
   ],
   "source": [
    "corpus = preprocessing(preprocess_df['tweet_text'])\n",
    "corpus.shape"
   ]
  },
  {
   "cell_type": "code",
   "execution_count": 14,
   "metadata": {},
   "outputs": [
    {
     "data": {
      "text/plain": [
       "array(['nigga', 'hors retard',\n",
       "       'nigga momma youngboy spit real shit nigga', ...,\n",
       "       'nigga big shitti',\n",
       "       'say nigga rich amp said anger mmph lhhni lhhnyreunion',\n",
       "       'nigga joe budden said thano got galact ass'], dtype='<U110')"
      ]
     },
     "execution_count": 14,
     "metadata": {},
     "output_type": "execute_result"
    }
   ],
   "source": [
    "corpus"
   ]
  },
  {
   "cell_type": "markdown",
   "metadata": {},
   "source": [
    "## Train test split"
   ]
  },
  {
   "cell_type": "code",
   "execution_count": 15,
   "metadata": {
    "scrolled": true
   },
   "outputs": [
    {
     "name": "stdout",
     "output_type": "stream",
     "text": [
      "Data Split done.\n",
      "X_train shape:  (119858,)\n",
      "y_train shape:  (119858,)\n",
      "X_val shape:  (29965,)\n",
      "y_val shape:  (29965,)\n"
     ]
    }
   ],
   "source": [
    "# Split the dataset for training and validation set with the ratio of 80% and 20%, respectively.\n",
    "X_train, X_val, y_train, y_val = train_test_split(corpus,preprocess_df['label_1'],test_size = 0.2,random_state=42)\n",
    "\n",
    "# X_train, X_test, y_train, y_test = train_test_split(preprocess_df['tweet_text'],preprocess_df['label_1'],test_size = 0.2,random_state=42)\n",
    "print(f'Data Split done.')\n",
    "# checking shapes of each\n",
    "print(\"X_train shape: \", X_train.shape)\n",
    "print(\"y_train shape: \", y_train.shape)\n",
    "print(\"X_val shape: \", X_val.shape)\n",
    "print(\"y_val shape: \", y_val.shape)"
   ]
  },
  {
   "cell_type": "markdown",
   "metadata": {},
   "source": [
    "# TF-IDF"
   ]
  },
  {
   "cell_type": "code",
   "execution_count": 16,
   "metadata": {},
   "outputs": [],
   "source": [
    "# create the transform\n",
    "vectorizer = TfidfVectorizer(\n",
    "        ngram_range=(1,4),\n",
    "        use_idf=True,\n",
    "        sublinear_tf=True,\n",
    "        analyzer=\"word\",\n",
    "        tokenizer=None,\n",
    "        preprocessor=None,\n",
    "        stop_words=('english'),\n",
    "        # token_pattern=\"^[a-zA-Z0-9_][a-zA-Z0-9_][a-zA-Z0-9_]*\",\n",
    "        max_features=50\n",
    "    )"
   ]
  },
  {
   "cell_type": "code",
   "execution_count": null,
   "metadata": {},
   "outputs": [],
   "source": [
    "# # tokenize and build vocab\n",
    "# vectorizer.fit_trainform(X_train)\n",
    "# print(f'Vectoriser fitted.')\n",
    "# print('No. of feature_words: ', len(vectorizer.get_feature_names()))"
   ]
  },
  {
   "cell_type": "markdown",
   "metadata": {},
   "source": [
    "## Tranforming the dataset\n",
    "Transforming the X_train and X_test dataset into matrix of TF-IDF Features by using the TF-IDF Vectoriser. This datasets will be used to train the model and test against it."
   ]
  },
  {
   "cell_type": "code",
   "execution_count": 17,
   "metadata": {},
   "outputs": [
    {
     "data": {
      "text/plain": [
       "TfidfVectorizer(max_features=50, ngram_range=(1, 4), stop_words='english',\n",
       "                sublinear_tf=True)"
      ]
     },
     "execution_count": 17,
     "metadata": {},
     "output_type": "execute_result"
    }
   ],
   "source": [
    "vectorizer.fit(X_train)"
   ]
  },
  {
   "cell_type": "code",
   "execution_count": 18,
   "metadata": {},
   "outputs": [
    {
     "name": "stdout",
     "output_type": "stream",
     "text": [
      "Data Transformed.\n"
     ]
    }
   ],
   "source": [
    "# encode document\n",
    "X_train = vectorizer.transform(X_train)\n",
    "X_val  = vectorizer.transform(X_val)\n",
    "\n",
    "# vect_transformed_X_train = vectorizer.fit_transform(X_train)\n",
    "# vect_transformed_X_test = vectorizer.fit_transform(X_val)\n",
    "print(f'Data Transformed.')"
   ]
  },
  {
   "cell_type": "code",
   "execution_count": 19,
   "metadata": {},
   "outputs": [
    {
     "name": "stdout",
     "output_type": "stream",
     "text": [
      "{'cunt': 8, 'dyke': 11, 'redneck': 34, 'nigga': 28, 'look': 22, 'like': 20, 'twat': 46, 'look like': 23, 'happi': 16, 'faggot': 12, 'retard': 35, 'know': 18, 'said': 37, 'say': 38, 'nigger': 30, 'got': 15, 'fuck': 13, 'ass': 1, 'ass nigga': 2, 'surrend': 41, 'buildthewal': 5, 'play': 31, 'time': 43, 'want': 47, 'amp': 0, 'white': 48, 'trash': 44, 'tri': 45, 'white trash': 49, 'shit': 39, 'hillbilli': 17, 'dick': 10, 'need': 27, 'bitch': 4, 'day': 9, 'realli': 33, 'big': 3, 'real': 32, 'sjw': 40, 'love': 24, 'make': 25, 'man': 26, 'lol': 21, 'think': 42, 'card': 6, 'come': 7, 'right': 36, 'good': 14, 'nigga said': 29, 'let': 19}\n",
      "[5.2783 4.2187 5.1340 5.2557 4.6867 5.1492 5.2855 5.3276 3.3214 5.1002\n",
      " 5.4693 4.0801 4.2121 3.8257 5.3630 4.3839 5.4463 5.2580 4.7711 5.3033\n",
      " 3.5883 5.4456 4.2629 5.1429 4.9042 5.1361 5.3033 5.3494 1.6437 5.3213\n",
      " 4.3522 5.2646 4.7606 4.8866 4.8668 3.7599 5.3604 4.6326 4.5570 4.4996\n",
      " 5.3283 5.1684 5.1657 5.1226 4.9298 5.4708 3.8946 5.0768 4.7787 5.4470]\n"
     ]
    }
   ],
   "source": [
    "print(vectorizer.vocabulary_)\n",
    "print(vectorizer.idf_)"
   ]
  },
  {
   "cell_type": "code",
   "execution_count": 20,
   "metadata": {},
   "outputs": [
    {
     "name": "stdout",
     "output_type": "stream",
     "text": [
      "(119858, 50)\n",
      "(119858,)\n"
     ]
    }
   ],
   "source": [
    "# summarize encoded vector\n",
    "print(X_train.shape)\n",
    "print(y_train.shape)"
   ]
  },
  {
   "cell_type": "markdown",
   "metadata": {},
   "source": [
    "# 3. Models"
   ]
  },
  {
   "cell_type": "markdown",
   "metadata": {},
   "source": [
    "## 3.1 LinearSVC"
   ]
  },
  {
   "cell_type": "code",
   "execution_count": null,
   "metadata": {},
   "outputs": [],
   "source": [
    "# load the model from disk\n",
    "# filename = 'SVM_model_onelabel.sav'\n",
    "# loaded_model = pickle.load(open(filename, 'rb'))\n",
    "# result = loaded_model.score(X_test, Y_test)"
   ]
  },
  {
   "cell_type": "code",
   "execution_count": 21,
   "metadata": {},
   "outputs": [
    {
     "name": "stdout",
     "output_type": "stream",
     "text": [
      "Training model complete.\n",
      "Wall time: 3min 27s\n"
     ]
    }
   ],
   "source": [
    "%%time\n",
    "svm_clf = SVC(kernel='linear', C=1)\n",
    "modelSVC = svm_clf.fit(X_train, y_train)\n",
    "print(f'Training model complete.')"
   ]
  },
  {
   "cell_type": "code",
   "execution_count": 22,
   "metadata": {},
   "outputs": [
    {
     "name": "stdout",
     "output_type": "stream",
     "text": [
      "Acc on training set:  0.7030319211066428\n",
      "Acc on validation set:  0.703387285166027\n"
     ]
    }
   ],
   "source": [
    "# # Perform prediction on the training and validation data\n",
    "y_pred_train_svm_clf = svm_clf.predict(X_train)\n",
    "y_pred_val_svm_clf = svm_clf.predict(X_val)\n",
    "\n",
    "# # calculating accuracy score on training set\n",
    "print(\"Acc on training set: \", accuracy_score(y_train, y_pred_train_svm_clf))\n",
    "\n",
    "# # calculating accuracy score on val set\n",
    "print(\"Acc on validation set: \", accuracy_score(y_val, y_pred_val_svm_clf))"
   ]
  },
  {
   "cell_type": "code",
   "execution_count": null,
   "metadata": {},
   "outputs": [],
   "source": [
    "# # save the model to disk\n",
    "# filename = 'SVM_model_onelabel.sav'\n",
    "# pickle.dump(svm_clf, open(filename, 'wb'))"
   ]
  },
  {
   "cell_type": "markdown",
   "metadata": {},
   "source": [
    "# 3.2 Neural Network"
   ]
  },
  {
   "cell_type": "code",
   "execution_count": 23,
   "metadata": {},
   "outputs": [
    {
     "name": "stdout",
     "output_type": "stream",
     "text": [
      "Training model complete.\n",
      "Wall time: 53.6 s\n"
     ]
    }
   ],
   "source": [
    "%%time\n",
    "mlp_clf = MLPClassifier(solver='sgd',\n",
    "                    alpha=1e-5,\n",
    "                    hidden_layer_sizes=(10,),\n",
    "                    random_state=1)\n",
    "mlp_clf.fit(X_train, y_train)\n",
    "print(f'Training model complete.')"
   ]
  },
  {
   "cell_type": "code",
   "execution_count": 24,
   "metadata": {},
   "outputs": [
    {
     "name": "stdout",
     "output_type": "stream",
     "text": [
      "Acc on training set:  0.7024645830899898\n",
      "Acc on validation set:  0.7022526280660771\n"
     ]
    }
   ],
   "source": [
    "# # Perform prediction on the training and validation data\n",
    "y_pred_train_mlp_clf = mlp_clf.predict(X_train)\n",
    "y_pred_val_mlp_clf = mlp_clf.predict(X_val)\n",
    "\n",
    "# # calculating accuracy score on training set\n",
    "print(\"Acc on training set: \", accuracy_score(y_train, y_pred_train_mlp_clf))\n",
    "\n",
    "# # calculating accuracy score on val set\n",
    "print(\"Acc on validation set: \", accuracy_score(y_val, y_pred_val_mlp_clf))"
   ]
  },
  {
   "cell_type": "markdown",
   "metadata": {},
   "source": [
    "# 3.3 XGBoost"
   ]
  },
  {
   "cell_type": "code",
   "execution_count": 25,
   "metadata": {},
   "outputs": [
    {
     "name": "stderr",
     "output_type": "stream",
     "text": [
      "C:\\Users\\hnbhu\\anaconda3\\lib\\site-packages\\xgboost\\sklearn.py:1146: UserWarning: The use of label encoder in XGBClassifier is deprecated and will be removed in a future release. To remove this warning, do the following: 1) Pass option use_label_encoder=False when constructing XGBClassifier object; and 2) Encode your labels (y) as integers starting with 0, i.e. 0, 1, 2, ..., [num_class - 1].\n",
      "  warnings.warn(label_encoder_deprecation_msg, UserWarning)\n"
     ]
    },
    {
     "name": "stdout",
     "output_type": "stream",
     "text": [
      "[11:38:42] WARNING: C:/Users/Administrator/workspace/xgboost-win64_release_1.4.0/src/learner.cc:1095: Starting in XGBoost 1.3.0, the default evaluation metric used with the objective 'multi:softprob' was changed from 'merror' to 'mlogloss'. Explicitly set eval_metric if you'd like to restore the old behavior.\n",
      "Training model complete.\n",
      "Wall time: 20.2 s\n"
     ]
    }
   ],
   "source": [
    "%%time\n",
    "xgb_clf = XGBClassifier()\n",
    "xgb_clf.fit(X_train, y_train)\n",
    "\n",
    "print(f'Training model complete.')"
   ]
  },
  {
   "cell_type": "code",
   "execution_count": 26,
   "metadata": {},
   "outputs": [
    {
     "name": "stdout",
     "output_type": "stream",
     "text": [
      "Accuracy is: 0.7036\n",
      "\n"
     ]
    }
   ],
   "source": [
    "# Predicting the Test set results\n",
    "y_pred = xgb_clf.predict(X_val)\n",
    "accuracy = accuracy_score(y_val, y_pred)\n",
    "print(\"Accuracy is: %.4f\\n\" % accuracy)"
   ]
  },
  {
   "cell_type": "code",
   "execution_count": 27,
   "metadata": {},
   "outputs": [
    {
     "name": "stdout",
     "output_type": "stream",
     "text": [
      "Acc on training set:  0.712392998381418\n",
      "Acc on validation set:  0.703554146504255\n"
     ]
    }
   ],
   "source": [
    "# # Perform prediction on the training and validation data\n",
    "y_pred_train_xgb_clf = xgb_clf.predict(X_train)\n",
    "y_pred_val_xgb_clf = xgb_clf.predict(X_val)\n",
    "\n",
    "# # calculating accuracy score on training set\n",
    "print(\"Acc on training set: \", accuracy_score(y_train, y_pred_train_xgb_clf))\n",
    "\n",
    "# # calculating accuracy score on val set\n",
    "print(\"Acc on validation set: \", accuracy_score(y_val, y_pred_val_xgb_clf))"
   ]
  },
  {
   "cell_type": "markdown",
   "metadata": {},
   "source": [
    "# 4. Pecision, recall, f-score, ROC and AUC charts"
   ]
  },
  {
   "cell_type": "markdown",
   "metadata": {},
   "source": [
    "## 4.1 precision, recall, f-score"
   ]
  },
  {
   "cell_type": "code",
   "execution_count": 28,
   "metadata": {},
   "outputs": [],
   "source": [
    "# Create the confussion matrix\n",
    "def plot_confussion_matrix(y_test, y_pred):\n",
    "    ''' Plot the confussion matrix for the target labels and predictions '''\n",
    "    cm = confusion_matrix(y_test, y_pred)\n",
    "\n",
    "    # Create a dataframe with the confussion matrix values\n",
    "    df_cm = pd.DataFrame(cm, range(cm.shape[0]),\n",
    "                  range(cm.shape[1]))\n",
    "    #plt.figure(figsize = (10,7))\n",
    "    # Plot the confussion matrix\n",
    "    sns.set(font_scale=1.4) #for label size\n",
    "    sns.heatmap(df_cm, annot=True,fmt='.0f',annot_kws={\"size\": 10})# font size\n",
    "    plt.show()"
   ]
  },
  {
   "cell_type": "code",
   "execution_count": 29,
   "metadata": {},
   "outputs": [
    {
     "name": "stdout",
     "output_type": "stream",
     "text": [
      "              precision    recall  f1-score   support\n",
      "\n",
      "           0    0.72029   0.95830   0.82242     20984\n",
      "           1    0.51102   0.11812   0.19188      4123\n",
      "           2    0.00000   0.00000   0.00000      1512\n",
      "           3    0.43967   0.42908   0.43431      1121\n",
      "           4    0.00000   0.00000   0.00000       121\n",
      "           5    0.00000   0.00000   0.00000      2104\n",
      "\n",
      "    accuracy                        0.70339     29965\n",
      "   macro avg    0.27850   0.25092   0.24144     29965\n",
      "weighted avg    0.59117   0.70339   0.61858     29965\n",
      "\n"
     ]
    },
    {
     "name": "stderr",
     "output_type": "stream",
     "text": [
      "C:\\Users\\hnbhu\\anaconda3\\lib\\site-packages\\sklearn\\metrics\\_classification.py:1221: UndefinedMetricWarning: Precision and F-score are ill-defined and being set to 0.0 in labels with no predicted samples. Use `zero_division` parameter to control this behavior.\n",
      "  _warn_prf(average, modifier, msg_start, len(result))\n"
     ]
    },
    {
     "data": {
      "image/png": "[encoded data removed]",
      "text/plain": [
       "<Figure size 432x288 with 2 Axes>"
      ]
     },
     "metadata": {},
     "output_type": "display_data"
    }
   ],
   "source": [
    "# precision, recall, f-score for LinearSVC\n",
    "print(metrics.classification_report(y_val, y_pred_val_svm_clf,  digits=5))\n",
    "plot_confussion_matrix(y_val, y_pred_val_svm_clf)"
   ]
  },
  {
   "cell_type": "markdown",
   "metadata": {},
   "source": [
    "F1 score is used as an evaluation measure as, when the data is skewed like in this case, where the number of hate speech tweets are very less, accuracy cannot be relied upon."
   ]
  },
  {
   "cell_type": "code",
   "execution_count": 30,
   "metadata": {},
   "outputs": [
    {
     "name": "stdout",
     "output_type": "stream",
     "text": [
      "              precision    recall  f1-score   support\n",
      "\n",
      "           0    0.71626   0.96516   0.82229     20984\n",
      "           1    0.51316   0.07567   0.13190      4123\n",
      "           2    0.00000   0.00000   0.00000      1512\n",
      "           3    0.44397   0.37467   0.40639      1121\n",
      "           4    0.00000   0.00000   0.00000       121\n",
      "           5    0.42963   0.02757   0.05181      2104\n",
      "\n",
      "    accuracy                        0.70225     29965\n",
      "   macro avg    0.35050   0.24051   0.23540     29965\n",
      "weighted avg    0.61897   0.70225   0.61283     29965\n",
      "\n"
     ]
    },
    {
     "data": {
      "image/png": "[encoded data removed]",
      "text/plain": [
       "<Figure size 432x288 with 2 Axes>"
      ]
     },
     "metadata": {},
     "output_type": "display_data"
    }
   ],
   "source": [
    "# precision, recall, f-score for neural network\n",
    "print(metrics.classification_report(y_val, y_pred_val_mlp_clf,  digits=5))\n",
    "plot_confussion_matrix(y_val, y_pred_val_mlp_clf)"
   ]
  },
  {
   "cell_type": "code",
   "execution_count": 31,
   "metadata": {},
   "outputs": [
    {
     "name": "stdout",
     "output_type": "stream",
     "text": [
      "              precision    recall  f1-score   support\n",
      "\n",
      "           0    0.72271   0.95439   0.82255     20984\n",
      "           1    0.49191   0.11060   0.18059      4123\n",
      "           2    0.10526   0.00132   0.00261      1512\n",
      "           3    0.45776   0.41570   0.43572      1121\n",
      "           4    0.00000   0.00000   0.00000       121\n",
      "           5    0.45172   0.06226   0.10944      2104\n",
      "\n",
      "    accuracy                        0.70355     29965\n",
      "   macro avg    0.37156   0.25738   0.25849     29965\n",
      "weighted avg    0.62794   0.70355   0.62498     29965\n",
      "\n"
     ]
    },
    {
     "data": {
      "image/png": "[encoded data removed]",
      "text/plain": [
       "<Figure size 432x288 with 2 Axes>"
      ]
     },
     "metadata": {},
     "output_type": "display_data"
    }
   ],
   "source": [
    "# precision, recall, f-score for XGBoost\n",
    "print(metrics.classification_report(y_val, y_pred_val_xgb_clf,  digits=5))\n",
    "plot_confussion_matrix(y_val, y_pred_val_xgb_clf)"
   ]
  },
  {
   "cell_type": "markdown",
   "metadata": {},
   "source": [
    "## 4.2 ROC and AUC charts"
   ]
  },
  {
   "cell_type": "code",
   "execution_count": 32,
   "metadata": {},
   "outputs": [],
   "source": [
    "# ROC Curve\n",
    "# plot no skill\n",
    "# Calculate the points in the ROC curve\n",
    "def plot_roc_curve(y_test, y_pred):\n",
    "    ''' Plot the ROC curve for the target labels and predictions'''\n",
    "    fpr, tpr, thresholds = roc_curve(y_test, y_pred, pos_label=1)\n",
    "    roc_auc= auc(fpr,tpr)\n",
    "\n",
    "    plt.title('Receiver Operating Characteristic')\n",
    "    plt.plot(fpr, tpr, 'b', label = 'AUC = %0.2f' % roc_auc)\n",
    "    plt.legend(loc = 'lower right')\n",
    "    plt.plot([0, 1], [0, 1],'r--')\n",
    "    plt.xlim([0, 1])\n",
    "    plt.ylim([0, 1])\n",
    "    plt.ylabel('True Positive Rate')\n",
    "    plt.xlabel('False Positive Rate')\n",
    "    plt.show()"
   ]
  },
  {
   "cell_type": "code",
   "execution_count": 33,
   "metadata": {},
   "outputs": [
    {
     "data": {
      "image/png": "[encoded data removed]",
      "text/plain": [
       "<Figure size 432x288 with 1 Axes>"
      ]
     },
     "metadata": {},
     "output_type": "display_data"
    }
   ],
   "source": [
    "# ROC curve for LinearSVC\n",
    "plot_roc_curve(y_val, y_pred_val_svm_clf)"
   ]
  },
  {
   "cell_type": "code",
   "execution_count": 34,
   "metadata": {},
   "outputs": [
    {
     "data": {
      "image/png": "[encoded data removed]",
      "text/plain": [
       "<Figure size 432x288 with 1 Axes>"
      ]
     },
     "metadata": {},
     "output_type": "display_data"
    }
   ],
   "source": [
    "# ROC curve for neural network\n",
    "plot_roc_curve(y_val, y_pred_val_mlp_clf)"
   ]
  },
  {
   "cell_type": "code",
   "execution_count": 35,
   "metadata": {},
   "outputs": [
    {
     "data": {
      "image/png": "[encoded data removed]",
      "text/plain": [
       "<Figure size 432x288 with 1 Axes>"
      ]
     },
     "metadata": {},
     "output_type": "display_data"
    }
   ],
   "source": [
    "# ROC curve for XGBoost\n",
    "plot_roc_curve(y_val, y_pred_val_xgb_clf)"
   ]
  }
 ],
 "metadata": {
  "kernelspec": {
   "display_name": "Python 3",
   "language": "python",
   "name": "python3"
  },
  "language_info": {
   "codemirror_mode": {
    "name": "ipython",
    "version": 3
   },
   "file_extension": ".py",
   "mimetype": "text/x-python",
   "name": "python",
   "nbconvert_exporter": "python",
   "pygments_lexer": "ipython3",
   "version": "3.8.5"
  }
 },
 "nbformat": 4,
 "nbformat_minor": 4
}
