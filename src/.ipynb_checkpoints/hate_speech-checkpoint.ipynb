{
 "cells": [
  {
   "cell_type": "code",
   "execution_count": 1,
   "metadata": {
    "colab": {
     "base_uri": "https://localhost:8080/"
    },
    "executionInfo": {
     "elapsed": 20201,
     "status": "ok",
     "timestamp": 1618458014737,
     "user": {
      "displayName": "Ngoc Bao Huy Hoang",
      "photoUrl": "",
      "userId": "11740607524938503983"
     },
     "user_tz": -600
    },
    "id": "1FIhVjIy2YaK",
    "outputId": "8fac0233-9bc4-4741-9031-9f3484789cff"
   },
   "outputs": [],
   "source": [
    "# from google.colab import drive\n",
    "# drive.mount('/content/drive')"
   ]
  },
  {
   "cell_type": "code",
   "execution_count": 2,
   "metadata": {
    "executionInfo": {
     "elapsed": 2524,
     "status": "ok",
     "timestamp": 1618458018554,
     "user": {
      "displayName": "Ngoc Bao Huy Hoang",
      "photoUrl": "",
      "userId": "11740607524938503983"
     },
     "user_tz": -600
    },
    "id": "rrxn07Zb3CmG"
   },
   "outputs": [],
   "source": [
    "import numpy as np\n",
    "import pandas as pd\n",
    "import re\n",
    "import json\n",
    "import os\n",
    "from os.path import join\n",
    "import matplotlib.pyplot as plt\n",
    "import seaborn as sns\n",
    "%matplotlib inline\n",
    "float_formatter = \"{:.4f}\".format\n",
    "np.set_printoptions(formatter={'float_kind':float_formatter})\n",
    "import warnings\n",
    "warnings.filterwarnings(\"ignore\", category=FutureWarning)"
   ]
  },
  {
   "cell_type": "code",
   "execution_count": 3,
   "metadata": {
    "executionInfo": {
     "elapsed": 1741,
     "status": "ok",
     "timestamp": 1618458021942,
     "user": {
      "displayName": "Ngoc Bao Huy Hoang",
      "photoUrl": "",
      "userId": "11740607524938503983"
     },
     "user_tz": -600
    },
    "id": "I5gmkcvX3ZfB"
   },
   "outputs": [],
   "source": [
    "## Runing on Colab\n",
    "## /content/drive/MyDrive/git/cyberbullying/input/hate_speech/MMHS150K_GT.json\n",
    "# dataset_directory = '/content/drive/MyDrive/git/cyberbullying/input/hate_speech' \n",
    "# img_txt_directory = '/content/drive/MyDrive/git/cyberbullying/input/hate_speech/img_txt' \n",
    "# img_resized_directory = '/content/drive/MyDrive/git/cyberbullying/input/hate_speech/img_resized' \n",
    "# splits_directory = '/content/drive/MyDrive/git/cyberbullying/input/hate_speech/splits' \n",
    "\n",
    "## Runing on Local\n",
    "dataset_directory = 'D:\\\\git\\\\cyberbullying\\\\input\\\\hate_speech' \n",
    "img_txt_directory = 'D:\\\\git\\\\cyberbullying\\\\input\\\\hate_speech\\\\img_txt' \n",
    "img_resized_directory = 'D:\\\\git\\\\cyberbullying\\\\input\\\\hate_speech\\\\img_resized' \n",
    "splits_directory = 'D:\\\\git\\\\cyberbullying\\\\input\\\\hate_speech\\\\splits' "
   ]
  },
  {
   "cell_type": "code",
   "execution_count": 4,
   "metadata": {
    "executionInfo": {
     "elapsed": 1936,
     "status": "ok",
     "timestamp": 1618458046421,
     "user": {
      "displayName": "Ngoc Bao Huy Hoang",
      "photoUrl": "",
      "userId": "11740607524938503983"
     },
     "user_tz": -600
    },
    "id": "gG-IaVoi5e7v"
   },
   "outputs": [],
   "source": [
    "with open(join(dataset_directory,'MMHS150K_GT.json')) as json_file:\n",
    "    hate_speech_data = json.load(json_file)"
   ]
  },
  {
   "cell_type": "code",
   "execution_count": 5,
   "metadata": {
    "executionInfo": {
     "elapsed": 12769,
     "status": "ok",
     "timestamp": 1618458061259,
     "user": {
      "displayName": "Ngoc Bao Huy Hoang",
      "photoUrl": "",
      "userId": "11740607524938503983"
     },
     "user_tz": -600
    },
    "id": "kOf_a-hf5mkU"
   },
   "outputs": [],
   "source": [
    "hate_speech_ori = pd.DataFrame(hate_speech_data)"
   ]
  },
  {
   "cell_type": "code",
   "execution_count": 6,
   "metadata": {
    "colab": {
     "base_uri": "https://localhost:8080/",
     "height": 286
    },
    "executionInfo": {
     "elapsed": 764,
     "status": "ok",
     "timestamp": 1618458066142,
     "user": {
      "displayName": "Ngoc Bao Huy Hoang",
      "photoUrl": "",
      "userId": "11740607524938503983"
     },
     "user_tz": -600
    },
    "id": "qc1NV0Pr8nZG",
    "outputId": "22459f84-abe8-4567-9a5a-2e3858f96819"
   },
   "outputs": [
    {
     "data": {
      "text/html": [
       "<div>\n",
       "<style scoped>\n",
       "    .dataframe tbody tr th:only-of-type {\n",
       "        vertical-align: middle;\n",
       "    }\n",
       "\n",
       "    .dataframe tbody tr th {\n",
       "        vertical-align: top;\n",
       "    }\n",
       "\n",
       "    .dataframe thead th {\n",
       "        text-align: right;\n",
       "    }\n",
       "</style>\n",
       "<table border=\"1\" class=\"dataframe\">\n",
       "  <thead>\n",
       "    <tr style=\"text-align: right;\">\n",
       "      <th></th>\n",
       "      <th>1114679353714016256</th>\n",
       "      <th>1063020048816660480</th>\n",
       "      <th>1108927368075374593</th>\n",
       "      <th>1114558534635618305</th>\n",
       "      <th>1035252480215592966</th>\n",
       "      <th>1106978219654303744</th>\n",
       "      <th>1113920043568463874</th>\n",
       "      <th>1114588617693966336</th>\n",
       "      <th>1045809514740666370</th>\n",
       "      <th>1108178453910695936</th>\n",
       "      <th>...</th>\n",
       "      <th>1116534812263710720</th>\n",
       "      <th>1062161948748513280</th>\n",
       "      <th>1107392307815477250</th>\n",
       "      <th>1105465552544374786</th>\n",
       "      <th>1114066031071453184</th>\n",
       "      <th>1114170734472048640</th>\n",
       "      <th>1110368198786846720</th>\n",
       "      <th>1106941858540851200</th>\n",
       "      <th>1105268309233188865</th>\n",
       "      <th>1114653514364530691</th>\n",
       "    </tr>\n",
       "  </thead>\n",
       "  <tbody>\n",
       "    <tr>\n",
       "      <th>img_url</th>\n",
       "      <td>http://pbs.twimg.com/tweet_video_thumb/D3gi9MH...</td>\n",
       "      <td>http://pbs.twimg.com/ext_tw_video_thumb/106301...</td>\n",
       "      <td>http://pbs.twimg.com/media/D2OzhzHUwAADQjd.jpg</td>\n",
       "      <td>http://pbs.twimg.com/ext_tw_video_thumb/111401...</td>\n",
       "      <td>http://pbs.twimg.com/media/Dl30pGIU8AAVGxO.jpg</td>\n",
       "      <td>http://pbs.twimg.com/media/D1zG0qnX4AAw9SC.jpg</td>\n",
       "      <td>http://pbs.twimg.com/media/D3VwYEKW4AYz4vk.jpg</td>\n",
       "      <td>http://pbs.twimg.com/media/D3fQcCCWAAIG8tO.jpg</td>\n",
       "      <td>http://pbs.twimg.com/media/DoN2KFmXcAAIT-Y.jpg</td>\n",
       "      <td>http://pbs.twimg.com/ext_tw_video_thumb/110817...</td>\n",
       "      <td>...</td>\n",
       "      <td>http://pbs.twimg.com/tweet_video_thumb/D366fX4...</td>\n",
       "      <td>http://pbs.twimg.com/media/Dr2OnfWX4AAG0YR.jpg</td>\n",
       "      <td>http://pbs.twimg.com/media/D14_buJXcAAvw2Z.jpg</td>\n",
       "      <td>http://pbs.twimg.com/tweet_video_thumb/D1dnDez...</td>\n",
       "      <td>http://pbs.twimg.com/media/D3X1JtrXkAAPHkL.jpg</td>\n",
       "      <td>http://pbs.twimg.com/tweet_video_thumb/D3ZUXNw...</td>\n",
       "      <td>http://pbs.twimg.com/ext_tw_video_thumb/111036...</td>\n",
       "      <td>http://pbs.twimg.com/media/D1yluGmXgAEKNG5.jpg</td>\n",
       "      <td>http://pbs.twimg.com/tweet_video_thumb/D1azqiz...</td>\n",
       "      <td>http://pbs.twimg.com/media/D3gLdL0W0AENzVJ.jpg</td>\n",
       "    </tr>\n",
       "    <tr>\n",
       "      <th>labels</th>\n",
       "      <td>[4, 1, 3]</td>\n",
       "      <td>[5, 5, 5]</td>\n",
       "      <td>[0, 0, 0]</td>\n",
       "      <td>[1, 0, 0]</td>\n",
       "      <td>[1, 0, 1]</td>\n",
       "      <td>[0, 0, 0]</td>\n",
       "      <td>[5, 1, 1]</td>\n",
       "      <td>[0, 0, 0]</td>\n",
       "      <td>[3, 3, 0]</td>\n",
       "      <td>[4, 0, 3]</td>\n",
       "      <td>...</td>\n",
       "      <td>[0, 0, 0]</td>\n",
       "      <td>[5, 0, 5]</td>\n",
       "      <td>[0, 0, 0]</td>\n",
       "      <td>[0, 1, 1]</td>\n",
       "      <td>[2, 0, 0]</td>\n",
       "      <td>[2, 5, 0]</td>\n",
       "      <td>[0, 0, 0]</td>\n",
       "      <td>[0, 1, 0]</td>\n",
       "      <td>[1, 0, 0]</td>\n",
       "      <td>[0, 0, 3]</td>\n",
       "    </tr>\n",
       "    <tr>\n",
       "      <th>tweet_url</th>\n",
       "      <td>https://twitter.com/user/status/11146793537140...</td>\n",
       "      <td>https://twitter.com/user/status/10630200488166...</td>\n",
       "      <td>https://twitter.com/user/status/11089273680753...</td>\n",
       "      <td>https://twitter.com/user/status/11145585346356...</td>\n",
       "      <td>https://twitter.com/user/status/10352524802155...</td>\n",
       "      <td>https://twitter.com/user/status/11069782196543...</td>\n",
       "      <td>https://twitter.com/user/status/11139200435684...</td>\n",
       "      <td>https://twitter.com/user/status/11145886176939...</td>\n",
       "      <td>https://twitter.com/user/status/10458095147406...</td>\n",
       "      <td>https://twitter.com/user/status/11081784539106...</td>\n",
       "      <td>...</td>\n",
       "      <td>https://twitter.com/user/status/11165348122637...</td>\n",
       "      <td>https://twitter.com/user/status/10621619487485...</td>\n",
       "      <td>https://twitter.com/user/status/11073923078154...</td>\n",
       "      <td>https://twitter.com/user/status/11054655525443...</td>\n",
       "      <td>https://twitter.com/user/status/11140660310714...</td>\n",
       "      <td>https://twitter.com/user/status/11141707344720...</td>\n",
       "      <td>https://twitter.com/user/status/11103681987868...</td>\n",
       "      <td>https://twitter.com/user/status/11069418585408...</td>\n",
       "      <td>https://twitter.com/user/status/11052683092331...</td>\n",
       "      <td>https://twitter.com/user/status/11146535143645...</td>\n",
       "    </tr>\n",
       "    <tr>\n",
       "      <th>tweet_text</th>\n",
       "      <td>@FriskDontMiss Nigga https://t.co/cAsaLWEpue</td>\n",
       "      <td>My horses are retarded https://t.co/HYhqc6d5WN</td>\n",
       "      <td>“NIGGA ON MA MOMMA YOUNGBOY BE SPITTING REAL S...</td>\n",
       "      <td>RT xxSuGVNGxx: I ran into this HOLY NIGGA TODA...</td>\n",
       "      <td>“EVERYbody calling you Nigger now!” https://t....</td>\n",
       "      <td>“ real ass bitch give a fuck boutta nigga” htt...</td>\n",
       "      <td>@WhiteHouse @realDonaldTrump Fuck ice. White s...</td>\n",
       "      <td>Day’s a cunt https://t.co/Ie6QZReHsw</td>\n",
       "      <td>#sissy faggot https://t.co/bm1nk8HcYO</td>\n",
       "      <td>@Gloriko_ Nigga what? https://t.co/nOwIJtgtU1</td>\n",
       "      <td>...</td>\n",
       "      <td>@urfavignantngga Salty ass nigga. Lol 🤣🤣🤣🤣 htt...</td>\n",
       "      <td>@MSNBC @KellyannePolls Ann shut up you mentall...</td>\n",
       "      <td>@jumpmanjimin oh u know i’m too much a real ni...</td>\n",
       "      <td>@quisLaFlare Good luck my nigga 🤘🏾 https://t.c...</td>\n",
       "      <td>Thanks \"— retarded\" For Following Me !!! https...</td>\n",
       "      <td>@svdate @gtconway3d I would just say hes Donny...</td>\n",
       "      <td>@Cheftime_Dev congrats my nigga keep on grindi...</td>\n",
       "      <td>My nigga big shitty https://t.co/e0snJGBgH9</td>\n",
       "      <td>did she just say “my nigga” to Rich? &amp;amp; she...</td>\n",
       "      <td>This nigga Joe Budden said thanos got a galact...</td>\n",
       "    </tr>\n",
       "    <tr>\n",
       "      <th>labels_str</th>\n",
       "      <td>[Religion, Racist, Homophobe]</td>\n",
       "      <td>[OtherHate, OtherHate, OtherHate]</td>\n",
       "      <td>[NotHate, NotHate, NotHate]</td>\n",
       "      <td>[Racist, NotHate, NotHate]</td>\n",
       "      <td>[Racist, NotHate, Racist]</td>\n",
       "      <td>[NotHate, NotHate, NotHate]</td>\n",
       "      <td>[OtherHate, Racist, Racist]</td>\n",
       "      <td>[NotHate, NotHate, NotHate]</td>\n",
       "      <td>[Homophobe, Homophobe, NotHate]</td>\n",
       "      <td>[Religion, NotHate, Homophobe]</td>\n",
       "      <td>...</td>\n",
       "      <td>[NotHate, NotHate, NotHate]</td>\n",
       "      <td>[OtherHate, NotHate, OtherHate]</td>\n",
       "      <td>[NotHate, NotHate, NotHate]</td>\n",
       "      <td>[NotHate, Racist, Racist]</td>\n",
       "      <td>[Sexist, NotHate, NotHate]</td>\n",
       "      <td>[Sexist, OtherHate, NotHate]</td>\n",
       "      <td>[NotHate, NotHate, NotHate]</td>\n",
       "      <td>[NotHate, Racist, NotHate]</td>\n",
       "      <td>[Racist, NotHate, NotHate]</td>\n",
       "      <td>[NotHate, NotHate, Homophobe]</td>\n",
       "    </tr>\n",
       "  </tbody>\n",
       "</table>\n",
       "<p>5 rows × 149823 columns</p>\n",
       "</div>"
      ],
      "text/plain": [
       "                                          1114679353714016256  \\\n",
       "img_url     http://pbs.twimg.com/tweet_video_thumb/D3gi9MH...   \n",
       "labels                                              [4, 1, 3]   \n",
       "tweet_url   https://twitter.com/user/status/11146793537140...   \n",
       "tweet_text       @FriskDontMiss Nigga https://t.co/cAsaLWEpue   \n",
       "labels_str                      [Religion, Racist, Homophobe]   \n",
       "\n",
       "                                          1063020048816660480  \\\n",
       "img_url     http://pbs.twimg.com/ext_tw_video_thumb/106301...   \n",
       "labels                                              [5, 5, 5]   \n",
       "tweet_url   https://twitter.com/user/status/10630200488166...   \n",
       "tweet_text     My horses are retarded https://t.co/HYhqc6d5WN   \n",
       "labels_str                  [OtherHate, OtherHate, OtherHate]   \n",
       "\n",
       "                                          1108927368075374593  \\\n",
       "img_url        http://pbs.twimg.com/media/D2OzhzHUwAADQjd.jpg   \n",
       "labels                                              [0, 0, 0]   \n",
       "tweet_url   https://twitter.com/user/status/11089273680753...   \n",
       "tweet_text  “NIGGA ON MA MOMMA YOUNGBOY BE SPITTING REAL S...   \n",
       "labels_str                        [NotHate, NotHate, NotHate]   \n",
       "\n",
       "                                          1114558534635618305  \\\n",
       "img_url     http://pbs.twimg.com/ext_tw_video_thumb/111401...   \n",
       "labels                                              [1, 0, 0]   \n",
       "tweet_url   https://twitter.com/user/status/11145585346356...   \n",
       "tweet_text  RT xxSuGVNGxx: I ran into this HOLY NIGGA TODA...   \n",
       "labels_str                         [Racist, NotHate, NotHate]   \n",
       "\n",
       "                                          1035252480215592966  \\\n",
       "img_url        http://pbs.twimg.com/media/Dl30pGIU8AAVGxO.jpg   \n",
       "labels                                              [1, 0, 1]   \n",
       "tweet_url   https://twitter.com/user/status/10352524802155...   \n",
       "tweet_text  “EVERYbody calling you Nigger now!” https://t....   \n",
       "labels_str                          [Racist, NotHate, Racist]   \n",
       "\n",
       "                                          1106978219654303744  \\\n",
       "img_url        http://pbs.twimg.com/media/D1zG0qnX4AAw9SC.jpg   \n",
       "labels                                              [0, 0, 0]   \n",
       "tweet_url   https://twitter.com/user/status/11069782196543...   \n",
       "tweet_text  “ real ass bitch give a fuck boutta nigga” htt...   \n",
       "labels_str                        [NotHate, NotHate, NotHate]   \n",
       "\n",
       "                                          1113920043568463874  \\\n",
       "img_url        http://pbs.twimg.com/media/D3VwYEKW4AYz4vk.jpg   \n",
       "labels                                              [5, 1, 1]   \n",
       "tweet_url   https://twitter.com/user/status/11139200435684...   \n",
       "tweet_text  @WhiteHouse @realDonaldTrump Fuck ice. White s...   \n",
       "labels_str                        [OtherHate, Racist, Racist]   \n",
       "\n",
       "                                          1114588617693966336  \\\n",
       "img_url        http://pbs.twimg.com/media/D3fQcCCWAAIG8tO.jpg   \n",
       "labels                                              [0, 0, 0]   \n",
       "tweet_url   https://twitter.com/user/status/11145886176939...   \n",
       "tweet_text               Day’s a cunt https://t.co/Ie6QZReHsw   \n",
       "labels_str                        [NotHate, NotHate, NotHate]   \n",
       "\n",
       "                                          1045809514740666370  \\\n",
       "img_url        http://pbs.twimg.com/media/DoN2KFmXcAAIT-Y.jpg   \n",
       "labels                                              [3, 3, 0]   \n",
       "tweet_url   https://twitter.com/user/status/10458095147406...   \n",
       "tweet_text              #sissy faggot https://t.co/bm1nk8HcYO   \n",
       "labels_str                    [Homophobe, Homophobe, NotHate]   \n",
       "\n",
       "                                          1108178453910695936  ...  \\\n",
       "img_url     http://pbs.twimg.com/ext_tw_video_thumb/110817...  ...   \n",
       "labels                                              [4, 0, 3]  ...   \n",
       "tweet_url   https://twitter.com/user/status/11081784539106...  ...   \n",
       "tweet_text      @Gloriko_ Nigga what? https://t.co/nOwIJtgtU1  ...   \n",
       "labels_str                     [Religion, NotHate, Homophobe]  ...   \n",
       "\n",
       "                                          1116534812263710720  \\\n",
       "img_url     http://pbs.twimg.com/tweet_video_thumb/D366fX4...   \n",
       "labels                                              [0, 0, 0]   \n",
       "tweet_url   https://twitter.com/user/status/11165348122637...   \n",
       "tweet_text  @urfavignantngga Salty ass nigga. Lol 🤣🤣🤣🤣 htt...   \n",
       "labels_str                        [NotHate, NotHate, NotHate]   \n",
       "\n",
       "                                          1062161948748513280  \\\n",
       "img_url        http://pbs.twimg.com/media/Dr2OnfWX4AAG0YR.jpg   \n",
       "labels                                              [5, 0, 5]   \n",
       "tweet_url   https://twitter.com/user/status/10621619487485...   \n",
       "tweet_text  @MSNBC @KellyannePolls Ann shut up you mentall...   \n",
       "labels_str                    [OtherHate, NotHate, OtherHate]   \n",
       "\n",
       "                                          1107392307815477250  \\\n",
       "img_url        http://pbs.twimg.com/media/D14_buJXcAAvw2Z.jpg   \n",
       "labels                                              [0, 0, 0]   \n",
       "tweet_url   https://twitter.com/user/status/11073923078154...   \n",
       "tweet_text  @jumpmanjimin oh u know i’m too much a real ni...   \n",
       "labels_str                        [NotHate, NotHate, NotHate]   \n",
       "\n",
       "                                          1105465552544374786  \\\n",
       "img_url     http://pbs.twimg.com/tweet_video_thumb/D1dnDez...   \n",
       "labels                                              [0, 1, 1]   \n",
       "tweet_url   https://twitter.com/user/status/11054655525443...   \n",
       "tweet_text  @quisLaFlare Good luck my nigga 🤘🏾 https://t.c...   \n",
       "labels_str                          [NotHate, Racist, Racist]   \n",
       "\n",
       "                                          1114066031071453184  \\\n",
       "img_url        http://pbs.twimg.com/media/D3X1JtrXkAAPHkL.jpg   \n",
       "labels                                              [2, 0, 0]   \n",
       "tweet_url   https://twitter.com/user/status/11140660310714...   \n",
       "tweet_text  Thanks \"— retarded\" For Following Me !!! https...   \n",
       "labels_str                         [Sexist, NotHate, NotHate]   \n",
       "\n",
       "                                          1114170734472048640  \\\n",
       "img_url     http://pbs.twimg.com/tweet_video_thumb/D3ZUXNw...   \n",
       "labels                                              [2, 5, 0]   \n",
       "tweet_url   https://twitter.com/user/status/11141707344720...   \n",
       "tweet_text  @svdate @gtconway3d I would just say hes Donny...   \n",
       "labels_str                       [Sexist, OtherHate, NotHate]   \n",
       "\n",
       "                                          1110368198786846720  \\\n",
       "img_url     http://pbs.twimg.com/ext_tw_video_thumb/111036...   \n",
       "labels                                              [0, 0, 0]   \n",
       "tweet_url   https://twitter.com/user/status/11103681987868...   \n",
       "tweet_text  @Cheftime_Dev congrats my nigga keep on grindi...   \n",
       "labels_str                        [NotHate, NotHate, NotHate]   \n",
       "\n",
       "                                          1106941858540851200  \\\n",
       "img_url        http://pbs.twimg.com/media/D1yluGmXgAEKNG5.jpg   \n",
       "labels                                              [0, 1, 0]   \n",
       "tweet_url   https://twitter.com/user/status/11069418585408...   \n",
       "tweet_text        My nigga big shitty https://t.co/e0snJGBgH9   \n",
       "labels_str                         [NotHate, Racist, NotHate]   \n",
       "\n",
       "                                          1105268309233188865  \\\n",
       "img_url     http://pbs.twimg.com/tweet_video_thumb/D1azqiz...   \n",
       "labels                                              [1, 0, 0]   \n",
       "tweet_url   https://twitter.com/user/status/11052683092331...   \n",
       "tweet_text  did she just say “my nigga” to Rich? &amp; she...   \n",
       "labels_str                         [Racist, NotHate, NotHate]   \n",
       "\n",
       "                                          1114653514364530691  \n",
       "img_url        http://pbs.twimg.com/media/D3gLdL0W0AENzVJ.jpg  \n",
       "labels                                              [0, 0, 3]  \n",
       "tweet_url   https://twitter.com/user/status/11146535143645...  \n",
       "tweet_text  This nigga Joe Budden said thanos got a galact...  \n",
       "labels_str                      [NotHate, NotHate, Homophobe]  \n",
       "\n",
       "[5 rows x 149823 columns]"
      ]
     },
     "execution_count": 6,
     "metadata": {},
     "output_type": "execute_result"
    }
   ],
   "source": [
    "hate_speech_ori.head(5)"
   ]
  },
  {
   "cell_type": "code",
   "execution_count": 7,
   "metadata": {
    "executionInfo": {
     "elapsed": 737,
     "status": "ok",
     "timestamp": 1618458071675,
     "user": {
      "displayName": "Ngoc Bao Huy Hoang",
      "photoUrl": "",
      "userId": "11740607524938503983"
     },
     "user_tz": -600
    },
    "id": "aKHlbAy-8rYB"
   },
   "outputs": [],
   "source": [
    "hate_speech_ori = hate_speech_ori.transpose()\n",
    "hate_speech_ori=hate_speech_ori.reset_index()\n",
    "hate_speech_ori.rename(columns={\"index\": \"user_id\"},inplace=True)"
   ]
  },
  {
   "cell_type": "code",
   "execution_count": 8,
   "metadata": {
    "colab": {
     "base_uri": "https://localhost:8080/",
     "height": 395
    },
    "executionInfo": {
     "elapsed": 714,
     "status": "ok",
     "timestamp": 1618458074819,
     "user": {
      "displayName": "Ngoc Bao Huy Hoang",
      "photoUrl": "",
      "userId": "11740607524938503983"
     },
     "user_tz": -600
    },
    "id": "Gtbuxk8F8y8n",
    "outputId": "9344ce84-3794-40bf-94dc-2c96cdd63931"
   },
   "outputs": [
    {
     "data": {
      "text/html": [
       "<div>\n",
       "<style scoped>\n",
       "    .dataframe tbody tr th:only-of-type {\n",
       "        vertical-align: middle;\n",
       "    }\n",
       "\n",
       "    .dataframe tbody tr th {\n",
       "        vertical-align: top;\n",
       "    }\n",
       "\n",
       "    .dataframe thead th {\n",
       "        text-align: right;\n",
       "    }\n",
       "</style>\n",
       "<table border=\"1\" class=\"dataframe\">\n",
       "  <thead>\n",
       "    <tr style=\"text-align: right;\">\n",
       "      <th></th>\n",
       "      <th>user_id</th>\n",
       "      <th>img_url</th>\n",
       "      <th>labels</th>\n",
       "      <th>tweet_url</th>\n",
       "      <th>tweet_text</th>\n",
       "      <th>labels_str</th>\n",
       "    </tr>\n",
       "  </thead>\n",
       "  <tbody>\n",
       "    <tr>\n",
       "      <th>0</th>\n",
       "      <td>1114679353714016256</td>\n",
       "      <td>http://pbs.twimg.com/tweet_video_thumb/D3gi9MH...</td>\n",
       "      <td>[4, 1, 3]</td>\n",
       "      <td>https://twitter.com/user/status/11146793537140...</td>\n",
       "      <td>@FriskDontMiss Nigga https://t.co/cAsaLWEpue</td>\n",
       "      <td>[Religion, Racist, Homophobe]</td>\n",
       "    </tr>\n",
       "    <tr>\n",
       "      <th>1</th>\n",
       "      <td>1063020048816660480</td>\n",
       "      <td>http://pbs.twimg.com/ext_tw_video_thumb/106301...</td>\n",
       "      <td>[5, 5, 5]</td>\n",
       "      <td>https://twitter.com/user/status/10630200488166...</td>\n",
       "      <td>My horses are retarded https://t.co/HYhqc6d5WN</td>\n",
       "      <td>[OtherHate, OtherHate, OtherHate]</td>\n",
       "    </tr>\n",
       "    <tr>\n",
       "      <th>2</th>\n",
       "      <td>1108927368075374593</td>\n",
       "      <td>http://pbs.twimg.com/media/D2OzhzHUwAADQjd.jpg</td>\n",
       "      <td>[0, 0, 0]</td>\n",
       "      <td>https://twitter.com/user/status/11089273680753...</td>\n",
       "      <td>“NIGGA ON MA MOMMA YOUNGBOY BE SPITTING REAL S...</td>\n",
       "      <td>[NotHate, NotHate, NotHate]</td>\n",
       "    </tr>\n",
       "    <tr>\n",
       "      <th>3</th>\n",
       "      <td>1114558534635618305</td>\n",
       "      <td>http://pbs.twimg.com/ext_tw_video_thumb/111401...</td>\n",
       "      <td>[1, 0, 0]</td>\n",
       "      <td>https://twitter.com/user/status/11145585346356...</td>\n",
       "      <td>RT xxSuGVNGxx: I ran into this HOLY NIGGA TODA...</td>\n",
       "      <td>[Racist, NotHate, NotHate]</td>\n",
       "    </tr>\n",
       "    <tr>\n",
       "      <th>4</th>\n",
       "      <td>1035252480215592966</td>\n",
       "      <td>http://pbs.twimg.com/media/Dl30pGIU8AAVGxO.jpg</td>\n",
       "      <td>[1, 0, 1]</td>\n",
       "      <td>https://twitter.com/user/status/10352524802155...</td>\n",
       "      <td>“EVERYbody calling you Nigger now!” https://t....</td>\n",
       "      <td>[Racist, NotHate, Racist]</td>\n",
       "    </tr>\n",
       "  </tbody>\n",
       "</table>\n",
       "</div>"
      ],
      "text/plain": [
       "               user_id                                            img_url  \\\n",
       "0  1114679353714016256  http://pbs.twimg.com/tweet_video_thumb/D3gi9MH...   \n",
       "1  1063020048816660480  http://pbs.twimg.com/ext_tw_video_thumb/106301...   \n",
       "2  1108927368075374593     http://pbs.twimg.com/media/D2OzhzHUwAADQjd.jpg   \n",
       "3  1114558534635618305  http://pbs.twimg.com/ext_tw_video_thumb/111401...   \n",
       "4  1035252480215592966     http://pbs.twimg.com/media/Dl30pGIU8AAVGxO.jpg   \n",
       "\n",
       "      labels                                          tweet_url  \\\n",
       "0  [4, 1, 3]  https://twitter.com/user/status/11146793537140...   \n",
       "1  [5, 5, 5]  https://twitter.com/user/status/10630200488166...   \n",
       "2  [0, 0, 0]  https://twitter.com/user/status/11089273680753...   \n",
       "3  [1, 0, 0]  https://twitter.com/user/status/11145585346356...   \n",
       "4  [1, 0, 1]  https://twitter.com/user/status/10352524802155...   \n",
       "\n",
       "                                          tweet_text  \\\n",
       "0       @FriskDontMiss Nigga https://t.co/cAsaLWEpue   \n",
       "1     My horses are retarded https://t.co/HYhqc6d5WN   \n",
       "2  “NIGGA ON MA MOMMA YOUNGBOY BE SPITTING REAL S...   \n",
       "3  RT xxSuGVNGxx: I ran into this HOLY NIGGA TODA...   \n",
       "4  “EVERYbody calling you Nigger now!” https://t....   \n",
       "\n",
       "                          labels_str  \n",
       "0      [Religion, Racist, Homophobe]  \n",
       "1  [OtherHate, OtherHate, OtherHate]  \n",
       "2        [NotHate, NotHate, NotHate]  \n",
       "3         [Racist, NotHate, NotHate]  \n",
       "4          [Racist, NotHate, Racist]  "
      ]
     },
     "execution_count": 8,
     "metadata": {},
     "output_type": "execute_result"
    }
   ],
   "source": [
    "hate_speech_ori.head(5)"
   ]
  },
  {
   "cell_type": "code",
   "execution_count": 9,
   "metadata": {
    "executionInfo": {
     "elapsed": 828,
     "status": "ok",
     "timestamp": 1618458089818,
     "user": {
      "displayName": "Ngoc Bao Huy Hoang",
      "photoUrl": "",
      "userId": "11740607524938503983"
     },
     "user_tz": -600
    },
    "id": "g9JwmHfml3kH"
   },
   "outputs": [],
   "source": [
    "hate_speech_df = hate_speech_ori.copy()"
   ]
  },
  {
   "cell_type": "markdown",
   "metadata": {
    "id": "3EjJndpKlt5Y"
   },
   "source": [
    "# General Analysis\n"
   ]
  },
  {
   "cell_type": "markdown",
   "metadata": {
    "id": "vijjXtl0lx78"
   },
   "source": [
    "## Number of records in the dataset, split between labels."
   ]
  },
  {
   "cell_type": "code",
   "execution_count": 10,
   "metadata": {
    "executionInfo": {
     "elapsed": 828,
     "status": "ok",
     "timestamp": 1618458508435,
     "user": {
      "displayName": "Ngoc Bao Huy Hoang",
      "photoUrl": "",
      "userId": "11740607524938503983"
     },
     "user_tz": -600
    },
    "id": "te8ybYrSnqBS"
   },
   "outputs": [],
   "source": [
    "not_hate=0\n",
    "racist=0\n",
    "sexist=0\n",
    "homophobe=0\n",
    "religion=0\n",
    "other_hate=0\n",
    "for i in hate_speech_df['labels']:\n",
    "    for j in i:\n",
    "        if j==0:\n",
    "            not_hate+=1\n",
    "        elif j==1:\n",
    "            racist+=1\n",
    "        elif j==2:\n",
    "            sexist+=1\n",
    "        elif j==3:\n",
    "            homophobe+=1\n",
    "        elif j==4:\n",
    "            religion+=1\n",
    "        else:\n",
    "            other_hate+=1\n",
    "label_li=['not_hate','racist','sexist','homophobe','religion','other_hate']\n",
    "label_li_value=[not_hate,racist,sexist,homophobe,religion,other_hate]"
   ]
  },
  {
   "cell_type": "code",
   "execution_count": 11,
   "metadata": {
    "colab": {
     "base_uri": "https://localhost:8080/",
     "height": 335
    },
    "executionInfo": {
     "elapsed": 921,
     "status": "ok",
     "timestamp": 1618458510660,
     "user": {
      "displayName": "Ngoc Bao Huy Hoang",
      "photoUrl": "",
      "userId": "11740607524938503983"
     },
     "user_tz": -600
    },
    "id": "48I4sQRFo6Fd",
    "outputId": "fa524175-b36f-4f41-d88b-d43f7220d52c"
   },
   "outputs": [
    {
     "data": {
      "image/png": "[encoded data removed]",
      "text/plain": [
       "<Figure size 432x288 with 1 Axes>"
      ]
     },
     "metadata": {},
     "output_type": "display_data"
    }
   ],
   "source": [
    "fig = plt.figure()\n",
    "ax = fig.add_axes([0,0,1,1])\n",
    "ax.set_title(\"Tweet distribution based on labels\")\n",
    "ax.pie(label_li_value,labels=label_li,autopct='%1.2f%%')\n",
    "plt.xticks(rotation=90)\n",
    "plt.show()"
   ]
  },
  {
   "cell_type": "markdown",
   "metadata": {
    "id": "Lt9Lka1gpSnv"
   },
   "source": [
    "## Number of records with text, image, and metadata (what percentage for each modality)"
   ]
  },
  {
   "cell_type": "code",
   "execution_count": 12,
   "metadata": {
    "id": "CGDF67mEpWQx"
   },
   "outputs": [
    {
     "name": "stdout",
     "output_type": "stream",
     "text": [
      "Total number for tweets are:  149823\n"
     ]
    }
   ],
   "source": [
    "print(\"Total number for tweets are: \",len(hate_speech_df))"
   ]
  },
  {
   "cell_type": "code",
   "execution_count": 13,
   "metadata": {
    "id": "zQBzJAgaudE6"
   },
   "outputs": [
    {
     "name": "stdout",
     "output_type": "stream",
     "text": [
      "Total number for images in the dataframe are:  149823\n"
     ]
    }
   ],
   "source": [
    "image_df_count = len(hate_speech_df['img_url'])\n",
    "print(\"Total number for images in the dataframe are: \",image_df_count)"
   ]
  },
  {
   "cell_type": "markdown",
   "metadata": {},
   "source": [
    "### Records of images"
   ]
  },
  {
   "cell_type": "code",
   "execution_count": 14,
   "metadata": {
    "id": "mde6L9FMuoNd"
   },
   "outputs": [
    {
     "name": "stdout",
     "output_type": "stream",
     "text": [
      "Total number for collected images in dataset are:  150000\n",
      "The percentage of image:  99.882\n"
     ]
    }
   ],
   "source": [
    "image_count= len(next(os.walk(img_resized_directory))[2])\n",
    "print(\"Total number for collected images in dataset are: \", image_count)\n",
    "print(\"The percentage of image: \", (image_df_count/image_count)*100)"
   ]
  },
  {
   "cell_type": "markdown",
   "metadata": {},
   "source": [
    "### Records of image text"
   ]
  },
  {
   "cell_type": "code",
   "execution_count": 15,
   "metadata": {},
   "outputs": [
    {
     "name": "stdout",
     "output_type": "stream",
     "text": [
      "Total number for collected image_text in dataset are:  59252\n",
      "The percentage of image text:  39.501333333333335\n"
     ]
    }
   ],
   "source": [
    "image_text_count = len(next(os.walk(img_txt_directory))[2])\n",
    "print(\"Total number for collected image_text in dataset are: \", image_text_count)\n",
    "print(\"The percentage of image text: \", (image_text_count/image_count)*100)"
   ]
  },
  {
   "cell_type": "markdown",
   "metadata": {},
   "source": [
    "# Text Analysis"
   ]
  },
  {
   "cell_type": "markdown",
   "metadata": {},
   "source": [
    "## Size distribution of each text instance, including post text and descriptions (chars and words)"
   ]
  },
  {
   "cell_type": "code",
   "execution_count": 16,
   "metadata": {},
   "outputs": [
    {
     "data": {
      "text/plain": [
       "0              @FriskDontMiss Nigga https://t.co/cAsaLWEpue\n",
       "1            My horses are retarded https://t.co/HYhqc6d5WN\n",
       "2         “NIGGA ON MA MOMMA YOUNGBOY BE SPITTING REAL S...\n",
       "3         RT xxSuGVNGxx: I ran into this HOLY NIGGA TODA...\n",
       "4         “EVERYbody calling you Nigger now!” https://t....\n",
       "                                ...                        \n",
       "149818    @svdate @gtconway3d I would just say hes Donny...\n",
       "149819    @Cheftime_Dev congrats my nigga keep on grindi...\n",
       "149820          My nigga big shitty https://t.co/e0snJGBgH9\n",
       "149821    did she just say “my nigga” to Rich? &amp; she...\n",
       "149822    This nigga Joe Budden said thanos got a galact...\n",
       "Name: tweet_text, Length: 149823, dtype: object"
      ]
     },
     "execution_count": 16,
     "metadata": {},
     "output_type": "execute_result"
    }
   ],
   "source": [
    "hate_speech_df['tweet_text']"
   ]
  },
  {
   "cell_type": "code",
   "execution_count": 17,
   "metadata": {},
   "outputs": [],
   "source": [
    "hate_speech_df['chars_count']=hate_speech_df['tweet_text'].apply(lambda x:len(x))"
   ]
  },
  {
   "cell_type": "code",
   "execution_count": 18,
   "metadata": {},
   "outputs": [
    {
     "data": {
      "text/html": [
       "<div>\n",
       "<style scoped>\n",
       "    .dataframe tbody tr th:only-of-type {\n",
       "        vertical-align: middle;\n",
       "    }\n",
       "\n",
       "    .dataframe tbody tr th {\n",
       "        vertical-align: top;\n",
       "    }\n",
       "\n",
       "    .dataframe thead th {\n",
       "        text-align: right;\n",
       "    }\n",
       "</style>\n",
       "<table border=\"1\" class=\"dataframe\">\n",
       "  <thead>\n",
       "    <tr style=\"text-align: right;\">\n",
       "      <th></th>\n",
       "      <th>user_id</th>\n",
       "      <th>img_url</th>\n",
       "      <th>labels</th>\n",
       "      <th>tweet_url</th>\n",
       "      <th>tweet_text</th>\n",
       "      <th>labels_str</th>\n",
       "      <th>chars_count</th>\n",
       "    </tr>\n",
       "  </thead>\n",
       "  <tbody>\n",
       "    <tr>\n",
       "      <th>0</th>\n",
       "      <td>1114679353714016256</td>\n",
       "      <td>http://pbs.twimg.com/tweet_video_thumb/D3gi9MH...</td>\n",
       "      <td>[4, 1, 3]</td>\n",
       "      <td>https://twitter.com/user/status/11146793537140...</td>\n",
       "      <td>@FriskDontMiss Nigga https://t.co/cAsaLWEpue</td>\n",
       "      <td>[Religion, Racist, Homophobe]</td>\n",
       "      <td>44</td>\n",
       "    </tr>\n",
       "    <tr>\n",
       "      <th>1</th>\n",
       "      <td>1063020048816660480</td>\n",
       "      <td>http://pbs.twimg.com/ext_tw_video_thumb/106301...</td>\n",
       "      <td>[5, 5, 5]</td>\n",
       "      <td>https://twitter.com/user/status/10630200488166...</td>\n",
       "      <td>My horses are retarded https://t.co/HYhqc6d5WN</td>\n",
       "      <td>[OtherHate, OtherHate, OtherHate]</td>\n",
       "      <td>46</td>\n",
       "    </tr>\n",
       "    <tr>\n",
       "      <th>2</th>\n",
       "      <td>1108927368075374593</td>\n",
       "      <td>http://pbs.twimg.com/media/D2OzhzHUwAADQjd.jpg</td>\n",
       "      <td>[0, 0, 0]</td>\n",
       "      <td>https://twitter.com/user/status/11089273680753...</td>\n",
       "      <td>“NIGGA ON MA MOMMA YOUNGBOY BE SPITTING REAL S...</td>\n",
       "      <td>[NotHate, NotHate, NotHate]</td>\n",
       "      <td>80</td>\n",
       "    </tr>\n",
       "    <tr>\n",
       "      <th>3</th>\n",
       "      <td>1114558534635618305</td>\n",
       "      <td>http://pbs.twimg.com/ext_tw_video_thumb/111401...</td>\n",
       "      <td>[1, 0, 0]</td>\n",
       "      <td>https://twitter.com/user/status/11145585346356...</td>\n",
       "      <td>RT xxSuGVNGxx: I ran into this HOLY NIGGA TODA...</td>\n",
       "      <td>[Racist, NotHate, NotHate]</td>\n",
       "      <td>76</td>\n",
       "    </tr>\n",
       "    <tr>\n",
       "      <th>4</th>\n",
       "      <td>1035252480215592966</td>\n",
       "      <td>http://pbs.twimg.com/media/Dl30pGIU8AAVGxO.jpg</td>\n",
       "      <td>[1, 0, 1]</td>\n",
       "      <td>https://twitter.com/user/status/10352524802155...</td>\n",
       "      <td>“EVERYbody calling you Nigger now!” https://t....</td>\n",
       "      <td>[Racist, NotHate, Racist]</td>\n",
       "      <td>59</td>\n",
       "    </tr>\n",
       "  </tbody>\n",
       "</table>\n",
       "</div>"
      ],
      "text/plain": [
       "               user_id                                            img_url  \\\n",
       "0  1114679353714016256  http://pbs.twimg.com/tweet_video_thumb/D3gi9MH...   \n",
       "1  1063020048816660480  http://pbs.twimg.com/ext_tw_video_thumb/106301...   \n",
       "2  1108927368075374593     http://pbs.twimg.com/media/D2OzhzHUwAADQjd.jpg   \n",
       "3  1114558534635618305  http://pbs.twimg.com/ext_tw_video_thumb/111401...   \n",
       "4  1035252480215592966     http://pbs.twimg.com/media/Dl30pGIU8AAVGxO.jpg   \n",
       "\n",
       "      labels                                          tweet_url  \\\n",
       "0  [4, 1, 3]  https://twitter.com/user/status/11146793537140...   \n",
       "1  [5, 5, 5]  https://twitter.com/user/status/10630200488166...   \n",
       "2  [0, 0, 0]  https://twitter.com/user/status/11089273680753...   \n",
       "3  [1, 0, 0]  https://twitter.com/user/status/11145585346356...   \n",
       "4  [1, 0, 1]  https://twitter.com/user/status/10352524802155...   \n",
       "\n",
       "                                          tweet_text  \\\n",
       "0       @FriskDontMiss Nigga https://t.co/cAsaLWEpue   \n",
       "1     My horses are retarded https://t.co/HYhqc6d5WN   \n",
       "2  “NIGGA ON MA MOMMA YOUNGBOY BE SPITTING REAL S...   \n",
       "3  RT xxSuGVNGxx: I ran into this HOLY NIGGA TODA...   \n",
       "4  “EVERYbody calling you Nigger now!” https://t....   \n",
       "\n",
       "                          labels_str  chars_count  \n",
       "0      [Religion, Racist, Homophobe]           44  \n",
       "1  [OtherHate, OtherHate, OtherHate]           46  \n",
       "2        [NotHate, NotHate, NotHate]           80  \n",
       "3         [Racist, NotHate, NotHate]           76  \n",
       "4          [Racist, NotHate, Racist]           59  "
      ]
     },
     "execution_count": 18,
     "metadata": {},
     "output_type": "execute_result"
    }
   ],
   "source": [
    "hate_speech_df.head()"
   ]
  },
  {
   "cell_type": "code",
   "execution_count": 19,
   "metadata": {},
   "outputs": [
    {
     "name": "stdout",
     "output_type": "stream",
     "text": [
      "Average chars count: 84.73\n"
     ]
    }
   ],
   "source": [
    "avg_word=sum(hate_speech_df['chars_count'])/len(hate_speech_df)\n",
    "print('Average chars count: {:.2f}'.format(avg_word))"
   ]
  },
  {
   "cell_type": "code",
   "execution_count": 20,
   "metadata": {},
   "outputs": [
    {
     "data": {
      "image/png": "[encoded data removed]",
      "text/plain": [
       "<Figure size 432x288 with 1 Axes>"
      ]
     },
     "metadata": {},
     "output_type": "display_data"
    }
   ],
   "source": [
    "# plt.figure(figsize=(14,7))\n",
    "plt.style.use('seaborn-whitegrid') # nice and clean grid\n",
    "plt.hist(x=hate_speech_df['chars_count'], bins=10, facecolor ='#2ab0ff', edgecolor='#169acf', alpha=0.7, linewidth=0.5)\n",
    "plt.title('Character Distribution')\n",
    "plt.xlabel('Characters in a tweet')\n",
    "plt.ylabel('Number of Tweet')\n",
    "plt.show()"
   ]
  },
  {
   "cell_type": "markdown",
   "metadata": {},
   "source": [
    "## Distribution of the number of comments for each post"
   ]
  },
  {
   "cell_type": "markdown",
   "metadata": {},
   "source": [
    "## Comparing all (or some) of the above against the label"
   ]
  },
  {
   "cell_type": "markdown",
   "metadata": {},
   "source": [
    "__Comment:__ Two tasks cannot be done. This is because of denying access to suspended account. Therefore, the crawling by using Twitter API cannot use to access the metadata to analyze the comments, number of users per posts and so on."
   ]
  },
  {
   "cell_type": "markdown",
   "metadata": {},
   "source": [
    "# Metadata Analysis"
   ]
  },
  {
   "cell_type": "markdown",
   "metadata": {},
   "source": [
    "## Number of users"
   ]
  },
  {
   "cell_type": "code",
   "execution_count": 21,
   "metadata": {},
   "outputs": [
    {
     "data": {
      "text/plain": [
       "'https://twitter.com/user/status/1063020048816660480'"
      ]
     },
     "execution_count": 21,
     "metadata": {},
     "output_type": "execute_result"
    }
   ],
   "source": [
    "hate_speech_df['tweet_url'][1]"
   ]
  },
  {
   "cell_type": "markdown",
   "metadata": {},
   "source": [
    "__Comment:__ These tasks cannot be done. This is because of denying access to suspended account. Therefore, the crawling by using Twitter API cannot use to access the metadata to analyze the comments, number of users per posts and so on."
   ]
  }
 ],
 "metadata": {
  "colab": {
   "authorship_tag": "ABX9TyMjDmNTXfPIU2CRop5I9Pes",
   "collapsed_sections": [],
   "name": "hate_speech.ipynb",
   "provenance": []
  },
  "kernelspec": {
   "display_name": "Python 3",
   "language": "python",
   "name": "python3"
  },
  "language_info": {
   "codemirror_mode": {
    "name": "ipython",
    "version": 3
   },
   "file_extension": ".py",
   "mimetype": "text/x-python",
   "name": "python",
   "nbconvert_exporter": "python",
   "pygments_lexer": "ipython3",
   "version": "3.8.5"
  }
 },
 "nbformat": 4,
 "nbformat_minor": 1
}
